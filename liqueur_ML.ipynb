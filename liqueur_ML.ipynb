{
  "cells": [
    {
      "cell_type": "markdown",
      "metadata": {
        "id": "view-in-github",
        "colab_type": "text"
      },
      "source": [
        "<a href=\"https://colab.research.google.com/github/km-0-8/iowa_liqueur/blob/main/liqueur_ML.ipynb\" target=\"_parent\"><img src=\"https://colab.research.google.com/assets/colab-badge.svg\" alt=\"Open In Colab\"/></a>"
      ]
    },
    {
      "cell_type": "markdown",
      "metadata": {
        "id": "UscnDzHH4v3W"
      },
      "source": [
        "##### 基本情報"
      ]
    },
    {
      "cell_type": "markdown",
      "metadata": {
        "id": "DhSZnXR04oJT"
      },
      "source": [
        "[https://data.iowa.gov/Sales-Distribution/Iowa-Liquor-Sales/m3tr-qhgy/about_data](https://data.iowa.gov/Sales-Distribution/Iowa-Liquor-Sales/m3tr-qhgy/about_data)"
      ]
    },
    {
      "cell_type": "markdown",
      "metadata": {
        "id": "w_2r5URC4soq"
      },
      "source": [
        "| 英語カラム名              | 日本語説明                                      |\n",
        "|---------------------------|-----------------------------------------------|\n",
        "| invoice_and_item_number   | 伝票／行番号（Invoice/Item）                    |\n",
        "| date                      | 注文日（日付）                                 |\n",
        "| store_number              | 店舗番号                                       |\n",
        "| store_name                | 店舗名                                         |\n",
        "| address                   | 住所                                           |\n",
        "| city                      | 市区町村名                                     |\n",
        "| zip_code                  | 郵便番号                                       |\n",
        "| store_location            | 店舗の位置（緯度・経度）                        |\n",
        "| county_number             | 郡番号（County Number）                        |\n",
        "| county                    | 郡名                                           |\n",
        "| category                  | 酒類カテゴリコード                             |\n",
        "| category_name             | 酒類カテゴリ名                                 |\n",
        "| vendor_number             | ベンダー番号（Vendor Number）                 |\n",
        "| vendor_name               | ベンダー名（Vendor）                          |\n",
        "| item_number               | 商品番号（Item Number）                        |\n",
        "| item_description          | 商品説明（Item Description）                   |\n",
        "| pack                      | ケース内のボトル数（Pack）                    |\n",
        "| bottle_volume_ml         | ボトル容量（ミリリットル）                     |\n",
        "| state_bottle_cost         | 州が仕入れた価格（State Bottle Cost）         |\n",
        "| state_bottle_retail       | 州の小売価格（State Bottle Retail）           |\n",
        "| bottles_sold              | 販売本数（Bottle Quantity）                   |\n",
        "| sale_dollars              | 売上額（Sale Dollars = ボトル×価格）         |\n",
        "| volume_sold_liters        | 販売量（リットル）                            |\n",
        "| volume_sold_gallons       | 販売量（ガロン）                              |"
      ]
    },
    {
      "cell_type": "markdown",
      "metadata": {
        "id": "JQ96lxd83vuj"
      },
      "source": [
        "##### ライブラリインポート/アカウント認証\n"
      ]
    },
    {
      "cell_type": "code",
      "execution_count": 1,
      "metadata": {
        "id": "JfsX6NvomfZ5"
      },
      "outputs": [],
      "source": [
        "from google.colab import auth\n",
        "auth.authenticate_user()"
      ]
    },
    {
      "cell_type": "code",
      "execution_count": null,
      "metadata": {
        "id": "VmCvwTsRMGJ8"
      },
      "outputs": [],
      "source": [
        "!python3 --version\n",
        "!pip install --no-cache-dir\n",
        "!pip uninstall -y dask distributed cloudpickle pandas fsspec toolz partd dask-ml\n",
        "!pip install --no-cache-dir \\\n",
        "  numpy==1.26.4 \\\n",
        "  \"dask[complete]==2024.5.0\" \\\n",
        "  dask-ml==2023.3.24 \\\n",
        "  cloudpickle==3.0.0 \\\n",
        "  pandas==2.2.2 \\\n",
        "  fsspec==2024.3.1 \\\n",
        "  toolz==0.12.1 \\\n",
        "  google-cloud-bigquery \\\n",
        "  pyarrow \\\n",
        "  gcsfs\n",
        "import pandas as pd\n",
        "from pandas.tseries.holiday import USFederalHolidayCalendar\n",
        "calendar = USFederalHolidayCalendar()\n",
        "from google.cloud import bigquery\n",
        "import dask\n",
        "import dask.dataframe as dd\n",
        "\n",
        "import numpy as np\n",
        "\n",
        "from sklearn.model_selection import train_test_split\n",
        "from sklearn.linear_model import LinearRegression\n",
        "from sklearn.metrics import mean_absolute_error,mean_squared_error, r2_score\n",
        "from sklearn.preprocessing import StandardScaler,OneHotEncoder\n",
        "from scipy.stats import skew,pearsonr\n",
        "\n",
        "import matplotlib.pyplot as plt\n",
        "import seaborn as sns"
      ]
    },
    {
      "cell_type": "markdown",
      "metadata": {
        "id": "8xZb1MZo3-Bb"
      },
      "source": [
        "##### BigQuery公開データセット（Iowa Liquor Sales）の抽出→Parquet化"
      ]
    },
    {
      "cell_type": "code",
      "execution_count": null,
      "metadata": {
        "id": "oJWBSOcFQgEg"
      },
      "outputs": [],
      "source": [
        "project_id = \"nodal-element-464703-v7\"\n",
        "client = bigquery.Client(project=project_id)\n",
        "query = \"\"\"\n",
        "SELECT\n",
        "*\n",
        "FROM `bigquery-public-data.iowa_liquor_sales.sales`\n",
        "\"\"\"\n",
        "query_job = client.query(query)\n",
        "query_job.result()\n",
        "destination_table = query_job.destination\n",
        "\n",
        "destination_uri = \"gs://iowa_liquor_sales_ml/stage_data/*.parquet\"\n",
        "extract_job = client.extract_table(\n",
        "    destination_table,\n",
        "    destination_uri,\n",
        "    location=\"US\",\n",
        "    job_config=bigquery.ExtractJobConfig(\n",
        "        destination_format=bigquery.DestinationFormat.PARQUET\n",
        "    )\n",
        ")\n",
        "extract_job.result()"
      ]
    },
    {
      "cell_type": "markdown",
      "metadata": {
        "id": "__R5eBCi5a3T"
      },
      "source": [
        "##### データの初期クレンジングと軽量化→Parquet化"
      ]
    },
    {
      "cell_type": "code",
      "execution_count": null,
      "metadata": {
        "id": "8CRpLu175P2G"
      },
      "outputs": [],
      "source": [
        "gcs_path = \"gs://iowa_liquor_sales_ml/stage_data/*.parquet\"\n",
        "stage_df = dd.read_parquet(\n",
        "    gcs_path,\n",
        "    storage_options={\"token\": \"cloud\"},\n",
        "    engine=\"pyarrow\"\n",
        ")"
      ]
    },
    {
      "cell_type": "code",
      "execution_count": null,
      "metadata": {
        "colab": {
          "base_uri": "https://localhost:8080/",
          "height": 463
        },
        "id": "JqFLQwli5eML",
        "outputId": "e0c360aa-a056-4044-922c-ec8061797002"
      },
      "outputs": [
        {
          "data": {
            "application/vnd.google.colaboratory.intrinsic+json": {
              "type": "dataframe"
            },
            "text/html": [
              "\n",
              "  <div id=\"df-5b9cd48c-4b20-4006-8ad0-beb54489cb67\" class=\"colab-df-container\">\n",
              "    <div>\n",
              "<style scoped>\n",
              "    .dataframe tbody tr th:only-of-type {\n",
              "        vertical-align: middle;\n",
              "    }\n",
              "\n",
              "    .dataframe tbody tr th {\n",
              "        vertical-align: top;\n",
              "    }\n",
              "\n",
              "    .dataframe thead th {\n",
              "        text-align: right;\n",
              "    }\n",
              "</style>\n",
              "<table border=\"1\" class=\"dataframe\">\n",
              "  <thead>\n",
              "    <tr style=\"text-align: right;\">\n",
              "      <th></th>\n",
              "      <th>invoice_and_item_number</th>\n",
              "      <th>date</th>\n",
              "      <th>store_number</th>\n",
              "      <th>store_name</th>\n",
              "      <th>address</th>\n",
              "      <th>city</th>\n",
              "      <th>zip_code</th>\n",
              "      <th>store_location</th>\n",
              "      <th>county_number</th>\n",
              "      <th>county</th>\n",
              "      <th>...</th>\n",
              "      <th>item_number</th>\n",
              "      <th>item_description</th>\n",
              "      <th>pack</th>\n",
              "      <th>bottle_volume_ml</th>\n",
              "      <th>state_bottle_cost</th>\n",
              "      <th>state_bottle_retail</th>\n",
              "      <th>bottles_sold</th>\n",
              "      <th>sale_dollars</th>\n",
              "      <th>volume_sold_liters</th>\n",
              "      <th>volume_sold_gallons</th>\n",
              "    </tr>\n",
              "  </thead>\n",
              "  <tbody>\n",
              "    <tr>\n",
              "      <th>0</th>\n",
              "      <td>S19297600099</td>\n",
              "      <td>2014-06-02</td>\n",
              "      <td>4969</td>\n",
              "      <td>LAKE LIQUORS WINE AND SPIRITS</td>\n",
              "      <td>910 N 8TH ST W</td>\n",
              "      <td>CLEAR LAKE</td>\n",
              "      <td>50428</td>\n",
              "      <td>b'\\x01\\x01\\x00\\x00\\x00?;\\xe0\\xbabYW\\xc0\\xdb\\xd...</td>\n",
              "      <td>17</td>\n",
              "      <td>CERRO GORDO</td>\n",
              "      <td>...</td>\n",
              "      <td>52598</td>\n",
              "      <td>E &amp; J VS</td>\n",
              "      <td>6</td>\n",
              "      <td>1750</td>\n",
              "      <td>11.83</td>\n",
              "      <td>17.75</td>\n",
              "      <td>3</td>\n",
              "      <td>53.25</td>\n",
              "      <td>5.25</td>\n",
              "      <td>1.39</td>\n",
              "    </tr>\n",
              "    <tr>\n",
              "      <th>1</th>\n",
              "      <td>S07871900012</td>\n",
              "      <td>2012-09-24</td>\n",
              "      <td>4376</td>\n",
              "      <td>KUM &amp; GO #6 / MASON CITY</td>\n",
              "      <td>1920 S FEDERAL AVE</td>\n",
              "      <td>MASON CITY</td>\n",
              "      <td>50401</td>\n",
              "      <td>b'\\x01\\x01\\x00\\x00\\x00\\x0b\\t\\x18]\\xdeLW\\xc0\"\\x...</td>\n",
              "      <td>17</td>\n",
              "      <td>CERRO GORDO</td>\n",
              "      <td>...</td>\n",
              "      <td>43334</td>\n",
              "      <td>CAPTAIN MORGAN SPICED RUM</td>\n",
              "      <td>24</td>\n",
              "      <td>375</td>\n",
              "      <td>4.50</td>\n",
              "      <td>6.74</td>\n",
              "      <td>7</td>\n",
              "      <td>47.18</td>\n",
              "      <td>2.62</td>\n",
              "      <td>0.69</td>\n",
              "    </tr>\n",
              "    <tr>\n",
              "      <th>2</th>\n",
              "      <td>S27530800017</td>\n",
              "      <td>2015-08-26</td>\n",
              "      <td>4232</td>\n",
              "      <td>ELLIOTT'S GENERAL STORE,</td>\n",
              "      <td>23828 HWY J18</td>\n",
              "      <td>MORAVIA</td>\n",
              "      <td>52571</td>\n",
              "      <td>b'\\x01\\x01\\x00\\x00\\x00EF\\x07$a5W\\xc0}\\xb2b\\xb8...</td>\n",
              "      <td>4</td>\n",
              "      <td>APPANOOSE</td>\n",
              "      <td>...</td>\n",
              "      <td>33717</td>\n",
              "      <td>PARAMOUNT SLOE GIN</td>\n",
              "      <td>12</td>\n",
              "      <td>1000</td>\n",
              "      <td>5.42</td>\n",
              "      <td>8.13</td>\n",
              "      <td>5</td>\n",
              "      <td>40.65</td>\n",
              "      <td>5.00</td>\n",
              "      <td>1.32</td>\n",
              "    </tr>\n",
              "    <tr>\n",
              "      <th>3</th>\n",
              "      <td>INV-58205200024</td>\n",
              "      <td>2023-05-05</td>\n",
              "      <td>5740</td>\n",
              "      <td>NEW STAR / KNOXVILLE</td>\n",
              "      <td>901 WEST PLEASANT ST</td>\n",
              "      <td>KNOXVILLE</td>\n",
              "      <td>50138</td>\n",
              "      <td>b'\\x01\\x01\\x00\\x00\\x00\\x84m\\xd2\\x07\\xe7FW\\xc0\\...</td>\n",
              "      <td>&lt;NA&gt;</td>\n",
              "      <td>MARION</td>\n",
              "      <td>...</td>\n",
              "      <td>64870</td>\n",
              "      <td>FIREBALL CINNAMON WHISKEY</td>\n",
              "      <td>48</td>\n",
              "      <td>100</td>\n",
              "      <td>1.00</td>\n",
              "      <td>1.50</td>\n",
              "      <td>192</td>\n",
              "      <td>288.00</td>\n",
              "      <td>19.20</td>\n",
              "      <td>5.07</td>\n",
              "    </tr>\n",
              "    <tr>\n",
              "      <th>4</th>\n",
              "      <td>INV-00149500106</td>\n",
              "      <td>2016-09-06</td>\n",
              "      <td>2649</td>\n",
              "      <td>HY-VEE #3 / DUBUQUE</td>\n",
              "      <td>400 LOCUST ST</td>\n",
              "      <td>DUBUQUE</td>\n",
              "      <td>52001</td>\n",
              "      <td>b'\\x01\\x01\\x00\\x00\\x00ux\\x08\\xe3\\xa7\\xaaV\\xc0\\...</td>\n",
              "      <td>31</td>\n",
              "      <td>DUBUQUE</td>\n",
              "      <td>...</td>\n",
              "      <td>37937</td>\n",
              "      <td>SKOL VODKA</td>\n",
              "      <td>12</td>\n",
              "      <td>1000</td>\n",
              "      <td>4.42</td>\n",
              "      <td>6.63</td>\n",
              "      <td>4</td>\n",
              "      <td>26.52</td>\n",
              "      <td>4.00</td>\n",
              "      <td>1.06</td>\n",
              "    </tr>\n",
              "  </tbody>\n",
              "</table>\n",
              "<p>5 rows × 24 columns</p>\n",
              "</div>\n",
              "    <div class=\"colab-df-buttons\">\n",
              "\n",
              "  <div class=\"colab-df-container\">\n",
              "    <button class=\"colab-df-convert\" onclick=\"convertToInteractive('df-5b9cd48c-4b20-4006-8ad0-beb54489cb67')\"\n",
              "            title=\"Convert this dataframe to an interactive table.\"\n",
              "            style=\"display:none;\">\n",
              "\n",
              "  <svg xmlns=\"http://www.w3.org/2000/svg\" height=\"24px\" viewBox=\"0 -960 960 960\">\n",
              "    <path d=\"M120-120v-720h720v720H120Zm60-500h600v-160H180v160Zm220 220h160v-160H400v160Zm0 220h160v-160H400v160ZM180-400h160v-160H180v160Zm440 0h160v-160H620v160ZM180-180h160v-160H180v160Zm440 0h160v-160H620v160Z\"/>\n",
              "  </svg>\n",
              "    </button>\n",
              "\n",
              "  <style>\n",
              "    .colab-df-container {\n",
              "      display:flex;\n",
              "      gap: 12px;\n",
              "    }\n",
              "\n",
              "    .colab-df-convert {\n",
              "      background-color: #E8F0FE;\n",
              "      border: none;\n",
              "      border-radius: 50%;\n",
              "      cursor: pointer;\n",
              "      display: none;\n",
              "      fill: #1967D2;\n",
              "      height: 32px;\n",
              "      padding: 0 0 0 0;\n",
              "      width: 32px;\n",
              "    }\n",
              "\n",
              "    .colab-df-convert:hover {\n",
              "      background-color: #E2EBFA;\n",
              "      box-shadow: 0px 1px 2px rgba(60, 64, 67, 0.3), 0px 1px 3px 1px rgba(60, 64, 67, 0.15);\n",
              "      fill: #174EA6;\n",
              "    }\n",
              "\n",
              "    .colab-df-buttons div {\n",
              "      margin-bottom: 4px;\n",
              "    }\n",
              "\n",
              "    [theme=dark] .colab-df-convert {\n",
              "      background-color: #3B4455;\n",
              "      fill: #D2E3FC;\n",
              "    }\n",
              "\n",
              "    [theme=dark] .colab-df-convert:hover {\n",
              "      background-color: #434B5C;\n",
              "      box-shadow: 0px 1px 3px 1px rgba(0, 0, 0, 0.15);\n",
              "      filter: drop-shadow(0px 1px 2px rgba(0, 0, 0, 0.3));\n",
              "      fill: #FFFFFF;\n",
              "    }\n",
              "  </style>\n",
              "\n",
              "    <script>\n",
              "      const buttonEl =\n",
              "        document.querySelector('#df-5b9cd48c-4b20-4006-8ad0-beb54489cb67 button.colab-df-convert');\n",
              "      buttonEl.style.display =\n",
              "        google.colab.kernel.accessAllowed ? 'block' : 'none';\n",
              "\n",
              "      async function convertToInteractive(key) {\n",
              "        const element = document.querySelector('#df-5b9cd48c-4b20-4006-8ad0-beb54489cb67');\n",
              "        const dataTable =\n",
              "          await google.colab.kernel.invokeFunction('convertToInteractive',\n",
              "                                                    [key], {});\n",
              "        if (!dataTable) return;\n",
              "\n",
              "        const docLinkHtml = 'Like what you see? Visit the ' +\n",
              "          '<a target=\"_blank\" href=https://colab.research.google.com/notebooks/data_table.ipynb>data table notebook</a>'\n",
              "          + ' to learn more about interactive tables.';\n",
              "        element.innerHTML = '';\n",
              "        dataTable['output_type'] = 'display_data';\n",
              "        await google.colab.output.renderOutput(dataTable, element);\n",
              "        const docLink = document.createElement('div');\n",
              "        docLink.innerHTML = docLinkHtml;\n",
              "        element.appendChild(docLink);\n",
              "      }\n",
              "    </script>\n",
              "  </div>\n",
              "\n",
              "\n",
              "    <div id=\"df-1dfa3ebc-7950-420c-9c31-e31d64476614\">\n",
              "      <button class=\"colab-df-quickchart\" onclick=\"quickchart('df-1dfa3ebc-7950-420c-9c31-e31d64476614')\"\n",
              "                title=\"Suggest charts\"\n",
              "                style=\"display:none;\">\n",
              "\n",
              "<svg xmlns=\"http://www.w3.org/2000/svg\" height=\"24px\"viewBox=\"0 0 24 24\"\n",
              "     width=\"24px\">\n",
              "    <g>\n",
              "        <path d=\"M19 3H5c-1.1 0-2 .9-2 2v14c0 1.1.9 2 2 2h14c1.1 0 2-.9 2-2V5c0-1.1-.9-2-2-2zM9 17H7v-7h2v7zm4 0h-2V7h2v10zm4 0h-2v-4h2v4z\"/>\n",
              "    </g>\n",
              "</svg>\n",
              "      </button>\n",
              "\n",
              "<style>\n",
              "  .colab-df-quickchart {\n",
              "      --bg-color: #E8F0FE;\n",
              "      --fill-color: #1967D2;\n",
              "      --hover-bg-color: #E2EBFA;\n",
              "      --hover-fill-color: #174EA6;\n",
              "      --disabled-fill-color: #AAA;\n",
              "      --disabled-bg-color: #DDD;\n",
              "  }\n",
              "\n",
              "  [theme=dark] .colab-df-quickchart {\n",
              "      --bg-color: #3B4455;\n",
              "      --fill-color: #D2E3FC;\n",
              "      --hover-bg-color: #434B5C;\n",
              "      --hover-fill-color: #FFFFFF;\n",
              "      --disabled-bg-color: #3B4455;\n",
              "      --disabled-fill-color: #666;\n",
              "  }\n",
              "\n",
              "  .colab-df-quickchart {\n",
              "    background-color: var(--bg-color);\n",
              "    border: none;\n",
              "    border-radius: 50%;\n",
              "    cursor: pointer;\n",
              "    display: none;\n",
              "    fill: var(--fill-color);\n",
              "    height: 32px;\n",
              "    padding: 0;\n",
              "    width: 32px;\n",
              "  }\n",
              "\n",
              "  .colab-df-quickchart:hover {\n",
              "    background-color: var(--hover-bg-color);\n",
              "    box-shadow: 0 1px 2px rgba(60, 64, 67, 0.3), 0 1px 3px 1px rgba(60, 64, 67, 0.15);\n",
              "    fill: var(--button-hover-fill-color);\n",
              "  }\n",
              "\n",
              "  .colab-df-quickchart-complete:disabled,\n",
              "  .colab-df-quickchart-complete:disabled:hover {\n",
              "    background-color: var(--disabled-bg-color);\n",
              "    fill: var(--disabled-fill-color);\n",
              "    box-shadow: none;\n",
              "  }\n",
              "\n",
              "  .colab-df-spinner {\n",
              "    border: 2px solid var(--fill-color);\n",
              "    border-color: transparent;\n",
              "    border-bottom-color: var(--fill-color);\n",
              "    animation:\n",
              "      spin 1s steps(1) infinite;\n",
              "  }\n",
              "\n",
              "  @keyframes spin {\n",
              "    0% {\n",
              "      border-color: transparent;\n",
              "      border-bottom-color: var(--fill-color);\n",
              "      border-left-color: var(--fill-color);\n",
              "    }\n",
              "    20% {\n",
              "      border-color: transparent;\n",
              "      border-left-color: var(--fill-color);\n",
              "      border-top-color: var(--fill-color);\n",
              "    }\n",
              "    30% {\n",
              "      border-color: transparent;\n",
              "      border-left-color: var(--fill-color);\n",
              "      border-top-color: var(--fill-color);\n",
              "      border-right-color: var(--fill-color);\n",
              "    }\n",
              "    40% {\n",
              "      border-color: transparent;\n",
              "      border-right-color: var(--fill-color);\n",
              "      border-top-color: var(--fill-color);\n",
              "    }\n",
              "    60% {\n",
              "      border-color: transparent;\n",
              "      border-right-color: var(--fill-color);\n",
              "    }\n",
              "    80% {\n",
              "      border-color: transparent;\n",
              "      border-right-color: var(--fill-color);\n",
              "      border-bottom-color: var(--fill-color);\n",
              "    }\n",
              "    90% {\n",
              "      border-color: transparent;\n",
              "      border-bottom-color: var(--fill-color);\n",
              "    }\n",
              "  }\n",
              "</style>\n",
              "\n",
              "      <script>\n",
              "        async function quickchart(key) {\n",
              "          const quickchartButtonEl =\n",
              "            document.querySelector('#' + key + ' button');\n",
              "          quickchartButtonEl.disabled = true;  // To prevent multiple clicks.\n",
              "          quickchartButtonEl.classList.add('colab-df-spinner');\n",
              "          try {\n",
              "            const charts = await google.colab.kernel.invokeFunction(\n",
              "                'suggestCharts', [key], {});\n",
              "          } catch (error) {\n",
              "            console.error('Error during call to suggestCharts:', error);\n",
              "          }\n",
              "          quickchartButtonEl.classList.remove('colab-df-spinner');\n",
              "          quickchartButtonEl.classList.add('colab-df-quickchart-complete');\n",
              "        }\n",
              "        (() => {\n",
              "          let quickchartButtonEl =\n",
              "            document.querySelector('#df-1dfa3ebc-7950-420c-9c31-e31d64476614 button');\n",
              "          quickchartButtonEl.style.display =\n",
              "            google.colab.kernel.accessAllowed ? 'block' : 'none';\n",
              "        })();\n",
              "      </script>\n",
              "    </div>\n",
              "\n",
              "    </div>\n",
              "  </div>\n"
            ],
            "text/plain": [
              "  invoice_and_item_number        date store_number  \\\n",
              "0            S19297600099  2014-06-02         4969   \n",
              "1            S07871900012  2012-09-24         4376   \n",
              "2            S27530800017  2015-08-26         4232   \n",
              "3         INV-58205200024  2023-05-05         5740   \n",
              "4         INV-00149500106  2016-09-06         2649   \n",
              "\n",
              "                      store_name               address        city zip_code  \\\n",
              "0  LAKE LIQUORS WINE AND SPIRITS        910 N 8TH ST W  CLEAR LAKE    50428   \n",
              "1       KUM & GO #6 / MASON CITY    1920 S FEDERAL AVE  MASON CITY    50401   \n",
              "2       ELLIOTT'S GENERAL STORE,         23828 HWY J18     MORAVIA    52571   \n",
              "3           NEW STAR / KNOXVILLE  901 WEST PLEASANT ST   KNOXVILLE    50138   \n",
              "4            HY-VEE #3 / DUBUQUE         400 LOCUST ST     DUBUQUE    52001   \n",
              "\n",
              "                                      store_location county_number  \\\n",
              "0  b'\\x01\\x01\\x00\\x00\\x00?;\\xe0\\xbabYW\\xc0\\xdb\\xd...            17   \n",
              "1  b'\\x01\\x01\\x00\\x00\\x00\\x0b\\t\\x18]\\xdeLW\\xc0\"\\x...            17   \n",
              "2  b'\\x01\\x01\\x00\\x00\\x00EF\\x07$a5W\\xc0}\\xb2b\\xb8...             4   \n",
              "3  b'\\x01\\x01\\x00\\x00\\x00\\x84m\\xd2\\x07\\xe7FW\\xc0\\...          <NA>   \n",
              "4  b'\\x01\\x01\\x00\\x00\\x00ux\\x08\\xe3\\xa7\\xaaV\\xc0\\...            31   \n",
              "\n",
              "        county  ... item_number           item_description pack  \\\n",
              "0  CERRO GORDO  ...       52598                   E & J VS    6   \n",
              "1  CERRO GORDO  ...       43334  CAPTAIN MORGAN SPICED RUM   24   \n",
              "2    APPANOOSE  ...       33717         PARAMOUNT SLOE GIN   12   \n",
              "3       MARION  ...       64870  FIREBALL CINNAMON WHISKEY   48   \n",
              "4      DUBUQUE  ...       37937                 SKOL VODKA   12   \n",
              "\n",
              "  bottle_volume_ml state_bottle_cost state_bottle_retail  bottles_sold  \\\n",
              "0             1750             11.83               17.75             3   \n",
              "1              375              4.50                6.74             7   \n",
              "2             1000              5.42                8.13             5   \n",
              "3              100              1.00                1.50           192   \n",
              "4             1000              4.42                6.63             4   \n",
              "\n",
              "   sale_dollars  volume_sold_liters  volume_sold_gallons  \n",
              "0         53.25                5.25                 1.39  \n",
              "1         47.18                2.62                 0.69  \n",
              "2         40.65                5.00                 1.32  \n",
              "3        288.00               19.20                 5.07  \n",
              "4         26.52                4.00                 1.06  \n",
              "\n",
              "[5 rows x 24 columns]"
            ]
          },
          "execution_count": 74,
          "metadata": {},
          "output_type": "execute_result"
        }
      ],
      "source": [
        "stage_df.head()"
      ]
    },
    {
      "cell_type": "markdown",
      "metadata": {
        "id": "5Z275CPp6KKd"
      },
      "source": [
        "⚡point：今後の処理の軽量化のため以下のカラムを排除\n",
        "- invoice_and_item_number\t：ユニークな値のため粒度が高すぎて意味を持たない。\n",
        "- volume_sold_gallons：他の特徴量から導出される冗長な情報（目的は解釈性の高いモデルの作成であるため）"
      ]
    },
    {
      "cell_type": "code",
      "execution_count": null,
      "metadata": {
        "id": "qYZ2YmzM5iEr"
      },
      "outputs": [],
      "source": [
        "df_dropped=stage_df.drop(columns=['invoice_and_item_number','volume_sold_gallons','store_location'])\n",
        "df_dropped.to_parquet(\"gs://iowa_liquor_sales_ml/cleaned_data/first_cleaned\", write_index=False)"
      ]
    },
    {
      "cell_type": "markdown",
      "metadata": {
        "id": "sjkPU9I-6UR8"
      },
      "source": [
        "##### 重複確認と欠損値処理→Parquet化"
      ]
    },
    {
      "cell_type": "code",
      "execution_count": null,
      "metadata": {
        "id": "7_ExSS1S6Vne"
      },
      "outputs": [],
      "source": [
        "gcs_path = \"gs://iowa_liquor_sales_ml/cleaned_data/first_cleaned/*.parquet\"\n",
        "first_cleaned_df = dd.read_parquet(\n",
        "    gcs_path,\n",
        "    storage_options={\"token\": \"cloud\"},\n",
        "    engine=\"pyarrow\"\n",
        ")"
      ]
    },
    {
      "cell_type": "markdown",
      "source": [
        "重複行を確認します。（レコード数もついでに確認します。）"
      ],
      "metadata": {
        "id": "RR2xRcUjazJ1"
      }
    },
    {
      "cell_type": "code",
      "execution_count": null,
      "metadata": {
        "id": "wQ6ZL0eootYt",
        "colab": {
          "base_uri": "https://localhost:8080/"
        },
        "outputId": "21c2ed4a-00c0-40ac-f5f6-4e1fc8fef747"
      },
      "outputs": [
        {
          "output_type": "stream",
          "name": "stdout",
          "text": [
            "レコード数（重複削除前）: 31761718\n"
          ]
        }
      ],
      "source": [
        "print(f\"レコード数（重複削除前）: {first_cleaned_df.shape[0].compute()}\")\n",
        "print(f\"レコード数（重複削除後）: {first_cleaned_df.drop_duplicates().shape[0].compute()}\")"
      ]
    },
    {
      "cell_type": "markdown",
      "source": [
        "重複行は見つかりませんでした。"
      ],
      "metadata": {
        "id": "D_OmF1rBa3Ux"
      }
    },
    {
      "cell_type": "markdown",
      "source": [
        "全体の欠損数を確認します。"
      ],
      "metadata": {
        "id": "AYHZmAaPRqYh"
      }
    },
    {
      "cell_type": "code",
      "source": [
        "#first_cleaned_dfの各列の欠損数を確認\n",
        "first_cleaned_df.isnull().sum().compute()"
      ],
      "metadata": {
        "colab": {
          "base_uri": "https://localhost:8080/"
        },
        "id": "HvrNiu7hRgDF",
        "outputId": "1f7d4557-2aef-4a1c-b485-73f374449fc9"
      },
      "execution_count": null,
      "outputs": [
        {
          "output_type": "execute_result",
          "data": {
            "text/plain": [
              "date                         0\n",
              "store_number                 0\n",
              "store_name                   0\n",
              "address                  83896\n",
              "city                     83895\n",
              "zip_code                 83962\n",
              "county_number          7628875\n",
              "county                  160698\n",
              "category                 16974\n",
              "category_name            25040\n",
              "vendor_number                9\n",
              "vendor_name                  7\n",
              "item_number                  0\n",
              "item_description             0\n",
              "pack                         0\n",
              "bottle_volume_ml             0\n",
              "state_bottle_cost           10\n",
              "state_bottle_retail         10\n",
              "bottles_sold                 0\n",
              "sale_dollars                10\n",
              "volume_sold_liters           0\n",
              "dtype: int64"
            ],
            "text/html": [
              "<div>\n",
              "<style scoped>\n",
              "    .dataframe tbody tr th:only-of-type {\n",
              "        vertical-align: middle;\n",
              "    }\n",
              "\n",
              "    .dataframe tbody tr th {\n",
              "        vertical-align: top;\n",
              "    }\n",
              "\n",
              "    .dataframe thead th {\n",
              "        text-align: right;\n",
              "    }\n",
              "</style>\n",
              "<table border=\"1\" class=\"dataframe\">\n",
              "  <thead>\n",
              "    <tr style=\"text-align: right;\">\n",
              "      <th></th>\n",
              "      <th>0</th>\n",
              "    </tr>\n",
              "  </thead>\n",
              "  <tbody>\n",
              "    <tr>\n",
              "      <th>date</th>\n",
              "      <td>0</td>\n",
              "    </tr>\n",
              "    <tr>\n",
              "      <th>store_number</th>\n",
              "      <td>0</td>\n",
              "    </tr>\n",
              "    <tr>\n",
              "      <th>store_name</th>\n",
              "      <td>0</td>\n",
              "    </tr>\n",
              "    <tr>\n",
              "      <th>address</th>\n",
              "      <td>83896</td>\n",
              "    </tr>\n",
              "    <tr>\n",
              "      <th>city</th>\n",
              "      <td>83895</td>\n",
              "    </tr>\n",
              "    <tr>\n",
              "      <th>zip_code</th>\n",
              "      <td>83962</td>\n",
              "    </tr>\n",
              "    <tr>\n",
              "      <th>county_number</th>\n",
              "      <td>7628875</td>\n",
              "    </tr>\n",
              "    <tr>\n",
              "      <th>county</th>\n",
              "      <td>160698</td>\n",
              "    </tr>\n",
              "    <tr>\n",
              "      <th>category</th>\n",
              "      <td>16974</td>\n",
              "    </tr>\n",
              "    <tr>\n",
              "      <th>category_name</th>\n",
              "      <td>25040</td>\n",
              "    </tr>\n",
              "    <tr>\n",
              "      <th>vendor_number</th>\n",
              "      <td>9</td>\n",
              "    </tr>\n",
              "    <tr>\n",
              "      <th>vendor_name</th>\n",
              "      <td>7</td>\n",
              "    </tr>\n",
              "    <tr>\n",
              "      <th>item_number</th>\n",
              "      <td>0</td>\n",
              "    </tr>\n",
              "    <tr>\n",
              "      <th>item_description</th>\n",
              "      <td>0</td>\n",
              "    </tr>\n",
              "    <tr>\n",
              "      <th>pack</th>\n",
              "      <td>0</td>\n",
              "    </tr>\n",
              "    <tr>\n",
              "      <th>bottle_volume_ml</th>\n",
              "      <td>0</td>\n",
              "    </tr>\n",
              "    <tr>\n",
              "      <th>state_bottle_cost</th>\n",
              "      <td>10</td>\n",
              "    </tr>\n",
              "    <tr>\n",
              "      <th>state_bottle_retail</th>\n",
              "      <td>10</td>\n",
              "    </tr>\n",
              "    <tr>\n",
              "      <th>bottles_sold</th>\n",
              "      <td>0</td>\n",
              "    </tr>\n",
              "    <tr>\n",
              "      <th>sale_dollars</th>\n",
              "      <td>10</td>\n",
              "    </tr>\n",
              "    <tr>\n",
              "      <th>volume_sold_liters</th>\n",
              "      <td>0</td>\n",
              "    </tr>\n",
              "  </tbody>\n",
              "</table>\n",
              "</div><br><label><b>dtype:</b> int64</label>"
            ]
          },
          "metadata": {},
          "execution_count": 7
        }
      ]
    },
    {
      "cell_type": "markdown",
      "source": [
        "これらの欠損値の処理については情報のまとまりごとに考えます。  \n",
        "カラムには大きく二つの要素(店舗の位置情報、リキュールの関連情報)に分かれていることが見て取れます。"
      ],
      "metadata": {
        "id": "hUtRLRlsR1Vo"
      }
    },
    {
      "cell_type": "markdown",
      "metadata": {
        "id": "BUcKJ84lapDO"
      },
      "source": [
        "まず、店舗の位置情報に関する欠損値の処理を考えます。\n",
        "店舗の位置情報に関するカラムすべてが欠損しているレコードに関しては、相互補完の余地がなく特徴量としての意味を持たないためデータから除外することを考えます。"
      ]
    },
    {
      "cell_type": "code",
      "execution_count": null,
      "metadata": {
        "colab": {
          "base_uri": "https://localhost:8080/"
        },
        "id": "ZYWydSqsDgcC",
        "outputId": "ed187816-e558-4af4-a4d3-0f4f043051b2"
      },
      "outputs": [
        {
          "output_type": "stream",
          "name": "stdout",
          "text": [
            "店舗の位置情報がすべて null のレコード数: 83895\n"
          ]
        }
      ],
      "source": [
        "#店舗の位置情報に関するカラムを定義\n",
        "cols = [\"address\", \"city\", \"zip_code\", \"county_number\", \"county\"]\n",
        "null_rows = first_cleaned_df[cols].isnull().all(axis=1)\n",
        "null_count = first_cleaned_df[null_rows].shape[0].compute()\n",
        "print(f\"店舗の位置情報がすべて null のレコード数: {null_count}\")"
      ]
    },
    {
      "cell_type": "markdown",
      "metadata": {
        "id": "7Zdq975FFjIe"
      },
      "source": [
        "⚡point：8万/3000万レコードと全体の0.3%程度であるためそのまま削除する。"
      ]
    },
    {
      "cell_type": "code",
      "execution_count": null,
      "metadata": {
        "colab": {
          "base_uri": "https://localhost:8080/"
        },
        "id": "cuSLjsCOGaX4",
        "outputId": "340a8eac-d02e-4e64-f7b7-c7e45cbe290d"
      },
      "outputs": [
        {
          "output_type": "execute_result",
          "data": {
            "text/plain": [
              "address                1\n",
              "city                   0\n",
              "zip_code              67\n",
              "county_number    7544980\n",
              "county             76803\n",
              "dtype: int64"
            ],
            "text/html": [
              "<div>\n",
              "<style scoped>\n",
              "    .dataframe tbody tr th:only-of-type {\n",
              "        vertical-align: middle;\n",
              "    }\n",
              "\n",
              "    .dataframe tbody tr th {\n",
              "        vertical-align: top;\n",
              "    }\n",
              "\n",
              "    .dataframe thead th {\n",
              "        text-align: right;\n",
              "    }\n",
              "</style>\n",
              "<table border=\"1\" class=\"dataframe\">\n",
              "  <thead>\n",
              "    <tr style=\"text-align: right;\">\n",
              "      <th></th>\n",
              "      <th>0</th>\n",
              "    </tr>\n",
              "  </thead>\n",
              "  <tbody>\n",
              "    <tr>\n",
              "      <th>address</th>\n",
              "      <td>1</td>\n",
              "    </tr>\n",
              "    <tr>\n",
              "      <th>city</th>\n",
              "      <td>0</td>\n",
              "    </tr>\n",
              "    <tr>\n",
              "      <th>zip_code</th>\n",
              "      <td>67</td>\n",
              "    </tr>\n",
              "    <tr>\n",
              "      <th>county_number</th>\n",
              "      <td>7544980</td>\n",
              "    </tr>\n",
              "    <tr>\n",
              "      <th>county</th>\n",
              "      <td>76803</td>\n",
              "    </tr>\n",
              "  </tbody>\n",
              "</table>\n",
              "</div><br><label><b>dtype:</b> int64</label>"
            ]
          },
          "metadata": {},
          "execution_count": 6
        }
      ],
      "source": [
        "#店舗の位置情報がすべて null のレコードを削除\n",
        "df_geo_null_cleaned = first_cleaned_df[~null_rows]\n",
        "#削除後の欠損数を確認\n",
        "df_geo_null_cleaned[cols].isnull().sum().compute()"
      ]
    },
    {
      "cell_type": "markdown",
      "source": [
        "削除後、county_numberとcountyにまだ欠損値が残っていることがわかります。\n",
        "このうち、countyはcounty_numberに比べ欠損値が少なく、他の特徴量からの補完による情報精度の低下の影響が少ないと考えられるため、countyを補完することを考えます。\n",
        "\n",
        "⚡point：addressはほぼ欠損が無く、情報として安定していると考えられるため同一のaddressを持つレコードからcountryを補完します。"
      ],
      "metadata": {
        "id": "86u2mPciTQuw"
      }
    },
    {
      "cell_type": "code",
      "execution_count": null,
      "metadata": {
        "colab": {
          "base_uri": "https://localhost:8080/"
        },
        "id": "A2XRKBzQOvIt",
        "outputId": "82d89d1b-7351-490d-ba2a-88e5bd48d95b"
      },
      "outputs": [
        {
          "output_type": "execute_result",
          "data": {
            "text/plain": [
              "address                1\n",
              "city                   0\n",
              "zip_code              67\n",
              "county_number    7627582\n",
              "county              5036\n",
              "dtype: int64"
            ],
            "text/html": [
              "<div>\n",
              "<style scoped>\n",
              "    .dataframe tbody tr th:only-of-type {\n",
              "        vertical-align: middle;\n",
              "    }\n",
              "\n",
              "    .dataframe tbody tr th {\n",
              "        vertical-align: top;\n",
              "    }\n",
              "\n",
              "    .dataframe thead th {\n",
              "        text-align: right;\n",
              "    }\n",
              "</style>\n",
              "<table border=\"1\" class=\"dataframe\">\n",
              "  <thead>\n",
              "    <tr style=\"text-align: right;\">\n",
              "      <th></th>\n",
              "      <th>0</th>\n",
              "    </tr>\n",
              "  </thead>\n",
              "  <tbody>\n",
              "    <tr>\n",
              "      <th>address</th>\n",
              "      <td>1</td>\n",
              "    </tr>\n",
              "    <tr>\n",
              "      <th>city</th>\n",
              "      <td>0</td>\n",
              "    </tr>\n",
              "    <tr>\n",
              "      <th>zip_code</th>\n",
              "      <td>67</td>\n",
              "    </tr>\n",
              "    <tr>\n",
              "      <th>county_number</th>\n",
              "      <td>7627582</td>\n",
              "    </tr>\n",
              "    <tr>\n",
              "      <th>county</th>\n",
              "      <td>5036</td>\n",
              "    </tr>\n",
              "  </tbody>\n",
              "</table>\n",
              "</div><br><label><b>dtype:</b> int64</label>"
            ]
          },
          "metadata": {},
          "execution_count": 8
        }
      ],
      "source": [
        "#補完\n",
        "address_to_county = (\n",
        "    df_geo_null_cleaned[~df_geo_null_cleaned[\"county\"].isnull()][[\"address\", \"county\"]]\n",
        "    .drop_duplicates()\n",
        "    .compute()\n",
        ")\n",
        "address_to_county = address_to_county.dropna()\n",
        "df_geo_null_cleaned = df_geo_null_cleaned.merge(address_to_county, on=\"address\", how=\"left\", suffixes=(\"\", \"_from_address\"))\n",
        "df_geo_null_cleaned[\"county\"] = df_geo_null_cleaned[\"county\"].fillna(df_geo_null_cleaned[\"county_from_address\"])\n",
        "df_geo_null_cleaned = df_geo_null_cleaned.drop(columns=[\"county_from_address\"])\n",
        "\n",
        "#補完後の欠損値を確認\n",
        "df_geo_null_cleaned[cols].isnull().sum().compute()"
      ]
    },
    {
      "cell_type": "markdown",
      "metadata": {
        "id": "Rjo9GLqzY4im"
      },
      "source": [
        "⚡point：contryの残りnull数は5千/3000万レコードと全体の0.02%程度であるためそのまま削除する。またaddress, zip_codeについても同様の理由からレコードごと削除します。"
      ]
    },
    {
      "cell_type": "code",
      "execution_count": null,
      "metadata": {
        "id": "RsTNWNS3W9Jw"
      },
      "outputs": [],
      "source": [
        "cols = [\"address\", \"zip_code\", \"county\"]\n",
        "df_geo_null_cleaned = df_geo_null_cleaned[~df_geo_null_cleaned[cols].isnull().any(axis=1)]"
      ]
    },
    {
      "cell_type": "code",
      "execution_count": null,
      "metadata": {
        "id": "Znu5_-xobGjm"
      },
      "outputs": [],
      "source": [
        "df_null_cleaned =df_geo_null_cleaned"
      ]
    },
    {
      "cell_type": "markdown",
      "metadata": {
        "id": "LRx_T2PWa0Bu"
      },
      "source": [
        "次にリキュールに関する情報の欠損値を確認します。"
      ]
    },
    {
      "cell_type": "code",
      "execution_count": null,
      "metadata": {
        "id": "YG2Jyeare6EM"
      },
      "outputs": [],
      "source": [
        "df_liq_null_cleaned=df_null_cleaned"
      ]
    },
    {
      "cell_type": "code",
      "execution_count": null,
      "metadata": {
        "colab": {
          "base_uri": "https://localhost:8080/"
        },
        "id": "fQotgWBDcsiY",
        "outputId": "6a7a38e2-9f01-4a01-e738-bfee05a096b9"
      },
      "outputs": [
        {
          "output_type": "execute_result",
          "data": {
            "text/plain": [
              "category               17028\n",
              "category_name          25212\n",
              "vendor_number             11\n",
              "vendor_name                9\n",
              "item_number                0\n",
              "item_description           0\n",
              "pack                       0\n",
              "bottle_volume_ml           0\n",
              "state_bottle_cost         10\n",
              "state_bottle_retail       10\n",
              "bottles_sold               0\n",
              "sale_dollars              10\n",
              "volume_sold_liters         0\n",
              "dtype: int64"
            ],
            "text/html": [
              "<div>\n",
              "<style scoped>\n",
              "    .dataframe tbody tr th:only-of-type {\n",
              "        vertical-align: middle;\n",
              "    }\n",
              "\n",
              "    .dataframe tbody tr th {\n",
              "        vertical-align: top;\n",
              "    }\n",
              "\n",
              "    .dataframe thead th {\n",
              "        text-align: right;\n",
              "    }\n",
              "</style>\n",
              "<table border=\"1\" class=\"dataframe\">\n",
              "  <thead>\n",
              "    <tr style=\"text-align: right;\">\n",
              "      <th></th>\n",
              "      <th>0</th>\n",
              "    </tr>\n",
              "  </thead>\n",
              "  <tbody>\n",
              "    <tr>\n",
              "      <th>category</th>\n",
              "      <td>17028</td>\n",
              "    </tr>\n",
              "    <tr>\n",
              "      <th>category_name</th>\n",
              "      <td>25212</td>\n",
              "    </tr>\n",
              "    <tr>\n",
              "      <th>vendor_number</th>\n",
              "      <td>11</td>\n",
              "    </tr>\n",
              "    <tr>\n",
              "      <th>vendor_name</th>\n",
              "      <td>9</td>\n",
              "    </tr>\n",
              "    <tr>\n",
              "      <th>item_number</th>\n",
              "      <td>0</td>\n",
              "    </tr>\n",
              "    <tr>\n",
              "      <th>item_description</th>\n",
              "      <td>0</td>\n",
              "    </tr>\n",
              "    <tr>\n",
              "      <th>pack</th>\n",
              "      <td>0</td>\n",
              "    </tr>\n",
              "    <tr>\n",
              "      <th>bottle_volume_ml</th>\n",
              "      <td>0</td>\n",
              "    </tr>\n",
              "    <tr>\n",
              "      <th>state_bottle_cost</th>\n",
              "      <td>10</td>\n",
              "    </tr>\n",
              "    <tr>\n",
              "      <th>state_bottle_retail</th>\n",
              "      <td>10</td>\n",
              "    </tr>\n",
              "    <tr>\n",
              "      <th>bottles_sold</th>\n",
              "      <td>0</td>\n",
              "    </tr>\n",
              "    <tr>\n",
              "      <th>sale_dollars</th>\n",
              "      <td>10</td>\n",
              "    </tr>\n",
              "    <tr>\n",
              "      <th>volume_sold_liters</th>\n",
              "      <td>0</td>\n",
              "    </tr>\n",
              "  </tbody>\n",
              "</table>\n",
              "</div><br><label><b>dtype:</b> int64</label>"
            ]
          },
          "metadata": {},
          "execution_count": 14
        }
      ],
      "source": [
        "#リキュールに関する情報のカラムを定義\n",
        "cols = [\"category\", \"category_name\", \"vendor_number\", \"vendor_name\", \"item_number\",\"item_description\",\"pack\",\"bottle_volume_ml\",\"state_bottle_cost\",\"state_bottle_retail\",\"bottles_sold\",\"sale_dollars\",\"volume_sold_liters\"]\n",
        "df_liq_null_cleaned[cols].isnull().sum().compute()"
      ]
    },
    {
      "cell_type": "markdown",
      "source": [
        "まず、category と category_nameの欠損値について考えます。\n",
        "これらが両方とも欠損している場合、相互補完の余地がなくなるためまずは存在するかどうかを確認します。その他の列に関しては欠損レコードが重複していないと仮定しても合計41レコードしかないためそのまま削除します。"
      ],
      "metadata": {
        "id": "1FUHeQZmX71h"
      }
    },
    {
      "cell_type": "code",
      "execution_count": null,
      "metadata": {
        "colab": {
          "base_uri": "https://localhost:8080/"
        },
        "id": "ol_M6PnfZjLd",
        "outputId": "96799ae4-ddba-40b8-9f4e-25f70837741f"
      },
      "outputs": [
        {
          "name": "stdout",
          "output_type": "stream",
          "text": [
            "category と category_name がともに null のレコード数: 17028\n"
          ]
        }
      ],
      "source": [
        "null_count = df_liq_null_cleaned[(df_liq_null_cleaned[\"category\"].isnull()) & (df_liq_null_cleaned[\"category_name\"].isnull())].shape[0].compute()\n",
        "print(f\"category と category_name がともに null のレコード数: {null_count}\")"
      ]
    },
    {
      "cell_type": "markdown",
      "metadata": {
        "id": "lgXJllBP_dAv"
      },
      "source": [
        "⚡point：この条件に当てはまるレコード数は1.7万/3000万と全体に対して0.05%程度の数であるため、そのままレコードごと削除します。"
      ]
    },
    {
      "cell_type": "code",
      "execution_count": null,
      "metadata": {
        "id": "Ne8Tf_eKZsRJ"
      },
      "outputs": [],
      "source": [
        "df_liq_null_cleaned = df_liq_null_cleaned[~df_liq_null_cleaned[\"category\"].isnull()]\n",
        "cols = [\"vendor_number\", \"vendor_name\", \"state_bottle_cost\", \"state_bottle_retail\",\"sale_dollars\"]\n",
        "df_liq_null_cleaned = df_liq_null_cleaned[~df_liq_null_cleaned[cols].isnull().any(axis=1)]"
      ]
    },
    {
      "cell_type": "markdown",
      "source": [
        "全ての欠損値処理が完了した後の欠損数をもう一度確認します。"
      ],
      "metadata": {
        "id": "7uS_EYLKZdgY"
      }
    },
    {
      "cell_type": "code",
      "execution_count": null,
      "metadata": {
        "colab": {
          "base_uri": "https://localhost:8080/",
          "height": 742
        },
        "id": "zkOjCS7ykQJt",
        "outputId": "b631e12b-f751-4ca2-a5d4-5c8934558a84"
      },
      "outputs": [
        {
          "data": {
            "text/html": [
              "<div>\n",
              "<style scoped>\n",
              "    .dataframe tbody tr th:only-of-type {\n",
              "        vertical-align: middle;\n",
              "    }\n",
              "\n",
              "    .dataframe tbody tr th {\n",
              "        vertical-align: top;\n",
              "    }\n",
              "\n",
              "    .dataframe thead th {\n",
              "        text-align: right;\n",
              "    }\n",
              "</style>\n",
              "<table border=\"1\" class=\"dataframe\">\n",
              "  <thead>\n",
              "    <tr style=\"text-align: right;\">\n",
              "      <th></th>\n",
              "      <th>0</th>\n",
              "    </tr>\n",
              "  </thead>\n",
              "  <tbody>\n",
              "    <tr>\n",
              "      <th>date</th>\n",
              "      <td>0</td>\n",
              "    </tr>\n",
              "    <tr>\n",
              "      <th>store_number</th>\n",
              "      <td>0</td>\n",
              "    </tr>\n",
              "    <tr>\n",
              "      <th>store_name</th>\n",
              "      <td>0</td>\n",
              "    </tr>\n",
              "    <tr>\n",
              "      <th>address</th>\n",
              "      <td>0</td>\n",
              "    </tr>\n",
              "    <tr>\n",
              "      <th>city</th>\n",
              "      <td>0</td>\n",
              "    </tr>\n",
              "    <tr>\n",
              "      <th>zip_code</th>\n",
              "      <td>0</td>\n",
              "    </tr>\n",
              "    <tr>\n",
              "      <th>county_number</th>\n",
              "      <td>7622524</td>\n",
              "    </tr>\n",
              "    <tr>\n",
              "      <th>county</th>\n",
              "      <td>0</td>\n",
              "    </tr>\n",
              "    <tr>\n",
              "      <th>category</th>\n",
              "      <td>0</td>\n",
              "    </tr>\n",
              "    <tr>\n",
              "      <th>category_name</th>\n",
              "      <td>8176</td>\n",
              "    </tr>\n",
              "    <tr>\n",
              "      <th>vendor_number</th>\n",
              "      <td>0</td>\n",
              "    </tr>\n",
              "    <tr>\n",
              "      <th>vendor_name</th>\n",
              "      <td>0</td>\n",
              "    </tr>\n",
              "    <tr>\n",
              "      <th>item_number</th>\n",
              "      <td>0</td>\n",
              "    </tr>\n",
              "    <tr>\n",
              "      <th>item_description</th>\n",
              "      <td>0</td>\n",
              "    </tr>\n",
              "    <tr>\n",
              "      <th>pack</th>\n",
              "      <td>0</td>\n",
              "    </tr>\n",
              "    <tr>\n",
              "      <th>bottle_volume_ml</th>\n",
              "      <td>0</td>\n",
              "    </tr>\n",
              "    <tr>\n",
              "      <th>state_bottle_cost</th>\n",
              "      <td>0</td>\n",
              "    </tr>\n",
              "    <tr>\n",
              "      <th>state_bottle_retail</th>\n",
              "      <td>0</td>\n",
              "    </tr>\n",
              "    <tr>\n",
              "      <th>bottles_sold</th>\n",
              "      <td>0</td>\n",
              "    </tr>\n",
              "    <tr>\n",
              "      <th>sale_dollars</th>\n",
              "      <td>0</td>\n",
              "    </tr>\n",
              "    <tr>\n",
              "      <th>volume_sold_liters</th>\n",
              "      <td>0</td>\n",
              "    </tr>\n",
              "  </tbody>\n",
              "</table>\n",
              "</div><br><label><b>dtype:</b> int64</label>"
            ],
            "text/plain": [
              "date                         0\n",
              "store_number                 0\n",
              "store_name                   0\n",
              "address                      0\n",
              "city                         0\n",
              "zip_code                     0\n",
              "county_number          7622524\n",
              "county                       0\n",
              "category                     0\n",
              "category_name             8176\n",
              "vendor_number                0\n",
              "vendor_name                  0\n",
              "item_number                  0\n",
              "item_description             0\n",
              "pack                         0\n",
              "bottle_volume_ml             0\n",
              "state_bottle_cost            0\n",
              "state_bottle_retail          0\n",
              "bottles_sold                 0\n",
              "sale_dollars                 0\n",
              "volume_sold_liters           0\n",
              "dtype: int64"
            ]
          },
          "execution_count": 88,
          "metadata": {},
          "output_type": "execute_result"
        }
      ],
      "source": [
        "df_liq_null_cleaned.isnull().sum().compute()"
      ]
    },
    {
      "cell_type": "markdown",
      "metadata": {
        "id": "1odjYmKPBE-F"
      },
      "source": [
        "⚡point：county_numberやcategory_nameはcountyやcategoryが信頼できる情報かどうか判断するため、このまま残します。"
      ]
    },
    {
      "cell_type": "code",
      "execution_count": null,
      "metadata": {
        "id": "GB3DT9EzlPkQ"
      },
      "outputs": [],
      "source": [
        "df_null_cleaned =df_liq_null_cleaned"
      ]
    },
    {
      "cell_type": "code",
      "execution_count": null,
      "metadata": {
        "id": "-FKSHQNkz4pO"
      },
      "outputs": [],
      "source": [
        "df_null_cleaned.to_parquet(\"gs://iowa_liquor_sales_ml/cleaned_data/null_cleaned\", write_index=False)"
      ]
    },
    {
      "cell_type": "markdown",
      "metadata": {
        "id": "7AZt9bpJTgIs"
      },
      "source": [
        "#####  冗長カラムの削除と表記ゆれの整理によるデータクレンジング→Parquet化"
      ]
    },
    {
      "cell_type": "code",
      "execution_count": null,
      "metadata": {
        "id": "xIAiwvSrCZVu"
      },
      "outputs": [],
      "source": [
        "gcs_path = \"gs://iowa_liquor_sales_ml/cleaned_data/null_cleaned/*.parquet\"\n",
        "null_cleaned_df = dd.read_parquet(\n",
        "    gcs_path,\n",
        "    storage_options={\"token\": \"cloud\"},\n",
        "    engine=\"pyarrow\"\n",
        ")"
      ]
    },
    {
      "cell_type": "markdown",
      "source": [
        "類似するカラムの組合せが複数あり、どちらの情報が正しいのか精査する必要があるため調査します。"
      ],
      "metadata": {
        "id": "cIzgVZjuYUiy"
      }
    },
    {
      "cell_type": "code",
      "source": [
        "def find_conflicts_and_print(df, id_col, name_col):\n",
        "    conflicts = (\n",
        "        df.groupby(id_col)[name_col]\n",
        "        .nunique()\n",
        "        .reset_index()\n",
        "        .rename(columns={name_col: f\"distinct_{name_col}\"})\n",
        "    )\n",
        "    conflicts_filtered = conflicts[conflicts[f\"distinct_{name_col}\"] > 1]\n",
        "    conflict_ids = conflicts_filtered[id_col].compute()\n",
        "    conflict_df = df[df[id_col].isin(conflict_ids)][[id_col, name_col]]\n",
        "    conflict_df = conflict_df.drop_duplicates().compute()\n",
        "    print(f\"\\nConflicts for {id_col} vs {name_col}:\")\n",
        "    print(conflict_df.sort_values(id_col))\n",
        "\n",
        "find_conflicts_and_print(null_cleaned_df, \"store_number\", \"store_name\")\n",
        "find_conflicts_and_print(null_cleaned_df, \"county_number\", \"county\")\n",
        "find_conflicts_and_print(null_cleaned_df, \"category\", \"category_name\")\n",
        "find_conflicts_and_print(null_cleaned_df, \"vendor_number\", \"vendor_name\")\n",
        "find_conflicts_and_print(null_cleaned_df, \"item_number\", \"item_description\")"
      ],
      "metadata": {
        "colab": {
          "base_uri": "https://localhost:8080/"
        },
        "id": "ToAgVyM69wAD",
        "outputId": "9982ba35-0ff0-4d23-976e-561529fc862b"
      },
      "execution_count": null,
      "outputs": [
        {
          "output_type": "stream",
          "name": "stdout",
          "text": [
            "\n",
            "Conflicts for store_number vs store_name:\n",
            "       store_number                                         store_name\n",
            "5221          10023  HY-VEE FAST AND FRESH #3 (7592) / WEST DES MOINES\n",
            "11017         10023         HY-VEE FAST AND FRESH #3 / WEST DES MOINES\n",
            "129825        10024         HY-VEE FAST AND FRESH #2 / WEST DES MOINES\n",
            "10705         10024  HY-VEE FAST AND FRESH #2 (7591) / WEST DES MOINES\n",
            "30551         10025        HY-VEE FAST AND FRESH #4 (7583) / URBANDALE\n",
            "...             ...                                                ...\n",
            "76060          9051                      WILDCAT DISTILLING / DUNCOMBE\n",
            "156832         9052                          173 CRAFT DISTILLERY (ET)\n",
            "83122          9052                               173 CRAFT DISTILLERY\n",
            "14319          9911                             NORTH AMERICAN SPIRITS\n",
            "22199          9911            SOUTHERN GLAZERS WINE & SPIRITS OF IOWA\n",
            "\n",
            "[804 rows x 2 columns]\n",
            "\n",
            "Conflicts for county_number vs county:\n",
            "Empty DataFrame\n",
            "Columns: [county_number, county]\n",
            "Index: []\n",
            "\n",
            "Conflicts for category vs category_name:\n",
            "         category                   category_name\n",
            "124437    1011300              TENNESSEE WHISKIES\n",
            "14248     1011300  SINGLE BARREL BOURBON WHISKIES\n",
            "4244    1011300.0  SINGLE BARREL BOURBON WHISKIES\n",
            "15      1011300.0              TENNESSEE WHISKIES\n",
            "17052   1011400.0         BOTTLED IN BOND BOURBON\n",
            "...           ...                             ...\n",
            "34      1081500.0                      TRIPLE SEC\n",
            "137       1701100  TEMPORARY & SPECIALTY PACKAGES\n",
            "82286     1701100  DECANTERS & SPECIALTY PACKAGES\n",
            "21      1701100.0  TEMPORARY & SPECIALTY PACKAGES\n",
            "522     1701100.0  DECANTERS & SPECIALTY PACKAGES\n",
            "\n",
            "[62 rows x 2 columns]\n",
            "\n",
            "Conflicts for vendor_number vs vendor_name:\n",
            "       vendor_number                   vendor_name\n",
            "123750            10               A HARDY USA LTD\n",
            "43037             10        A HARDY / U.S.A., LTD.\n",
            "122855          10.0        A HARDY / U.S.A., LTD.\n",
            "26576           10.0               A HARDY USA LTD\n",
            "24809            107    BLAUM BROS. DISTILLING CO.\n",
            "...              ...                           ...\n",
            "98260            977        WERNER DISTILLING, LLC\n",
            "29090            978  W. J. DEUTSCH AND SONS, LTD.\n",
            "14902            978        W J DEUTSCH & SONS LTD\n",
            "14935          978.0        W J DEUTSCH & SONS LTD\n",
            "115157         978.0  W. J. DEUTSCH AND SONS, LTD.\n",
            "\n",
            "[410 rows x 2 columns]\n",
            "\n",
            "Conflicts for item_number vs item_description:\n",
            "       item_number                             item_description\n",
            "7798        100015                          FIREBALL BAG IN BOX\n",
            "6620        100015         FIREBALL CINNAMON WHISKEY BAG IN BOX\n",
            "37959       100015       FIREBALL CINNAMON WHISKEY BAG IN BOX 1\n",
            "16864       100040               GRAND MARNIER W/2 SHOT GLASSES\n",
            "95687       100040  GRAND MARNIER CORDON ROUGE W/2 SHOT GLASSES\n",
            "...            ...                                          ...\n",
            "42847       997975  WHISTLER CALVADOS CASK FINISH IRISH WHISKEY\n",
            "119333      999440                 TEMPUS FUGIT CR�ME CACAO VAN\n",
            "120748      999440                           TF CR�ME CACAO VAN\n",
            "40141       999993  KINGS COUNTY DISTILLERY WHEAT WHISKEY DISCO\n",
            "120950      999993        KINGS COUNTY DISTILLERY WHEAT WHISKEY\n",
            "\n",
            "[4781 rows x 2 columns]\n"
          ]
        }
      ]
    },
    {
      "cell_type": "markdown",
      "metadata": {
        "id": "8oE_eHYFMEDJ"
      },
      "source": [
        "✅insight\n",
        "- store_number vs store_nam：表記ゆれがある\n",
        "  - store_numberに対して同一の内容であると目視で判断し、store_numberの情報を信頼。冗長なstore_nameは削除しstore_numberのみ残す\n",
        "- county_number vs country：1:1の関係。\n",
        "  - 冗長なcountryは削除しcounty_numberのみ残す\n",
        "\n",
        "- category vs category_name：表記ゆれがある\n",
        "  - categoryに対して同一の内容であると考え、categoryの情報を信頼。冗長なcategory_nameは削除しcategoryのみ残す\n",
        "\n",
        "- vendor_number vs vendor_name：表記ゆれがある\n",
        "  - vendor_numberに対して同一の内容であると考え、vendor_numberの情報を信頼。冗長なvendor_nameは削除しvendor_numberのみ残す\n",
        "\n",
        "- item_number vs item_description：表記ゆれがある\n",
        "  - item_numberに対して同一の内容であると考え、item_numberの情報を信頼。冗長なitem_descriptionは削除しitem_numberのみ残す"
      ]
    },
    {
      "cell_type": "code",
      "execution_count": null,
      "metadata": {
        "id": "jNqHOX8uI1tD"
      },
      "outputs": [],
      "source": [
        "df_redundant_del = null_cleaned_df.drop(columns=['store_name',\"address\",\"city\",\"zip_code\", 'county_number',\"category_name\",\"vendor_name\",\"item_description\"])\n",
        "df_redundant_del.to_parquet(\"gs://iowa_liquor_sales_ml/cleaned_data/redundant_del\", write_index=False)"
      ]
    },
    {
      "cell_type": "markdown",
      "metadata": {
        "id": "_zaZG_sI7Pc8"
      },
      "source": [
        "##### データ型の変換と外れ値除去、特徴量エンジニアリング→Parquet化"
      ]
    },
    {
      "cell_type": "code",
      "execution_count": 3,
      "metadata": {
        "id": "RF9ItC6UdNSq"
      },
      "outputs": [],
      "source": [
        "gcs_path = \"gs://iowa_liquor_sales_ml/cleaned_data/redundant_del/*.parquet\"\n",
        "df_redundant_del = dd.read_parquet(\n",
        "    gcs_path,\n",
        "    storage_options={\"token\": \"cloud\"},\n",
        "    engine=\"pyarrow\"\n",
        ")"
      ]
    },
    {
      "cell_type": "code",
      "source": [
        "df_redundant_del.head()"
      ],
      "metadata": {
        "id": "-MDmU0TZYrSl",
        "colab": {
          "base_uri": "https://localhost:8080/",
          "height": 206
        },
        "outputId": "f7fd287d-a17f-4b0e-b3cd-6976e58540a8"
      },
      "execution_count": 4,
      "outputs": [
        {
          "output_type": "execute_result",
          "data": {
            "text/plain": [
              "         date store_number       county   category vendor_number item_number  \\\n",
              "0  2014-06-02         4969  CERRO GORDO  1051010.0           205       52598   \n",
              "1  2012-09-24         4376  CERRO GORDO  1062310.0           260       43334   \n",
              "2  2015-08-26         4232    APPANOOSE  1041200.0           434       33717   \n",
              "3  2023-05-05         5740       MARION  1081600.0           421       64870   \n",
              "4  2016-09-06         2649      DUBUQUE  1031100.0            55       37937   \n",
              "\n",
              "   pack  bottle_volume_ml  state_bottle_cost  state_bottle_retail  \\\n",
              "0     6              1750              11.83                17.75   \n",
              "1    24               375               4.50                 6.74   \n",
              "2    12              1000               5.42                 8.13   \n",
              "3    48               100               1.00                 1.50   \n",
              "4    12              1000               4.42                 6.63   \n",
              "\n",
              "   bottles_sold  sale_dollars  volume_sold_liters  \n",
              "0             3         53.25                5.25  \n",
              "1             7         47.18                2.62  \n",
              "2             5         40.65                5.00  \n",
              "3           192        288.00               19.20  \n",
              "4             4         26.52                4.00  "
            ],
            "text/html": [
              "\n",
              "  <div id=\"df-ab990c39-2680-4db3-9b10-0afda5d49807\" class=\"colab-df-container\">\n",
              "    <div>\n",
              "<style scoped>\n",
              "    .dataframe tbody tr th:only-of-type {\n",
              "        vertical-align: middle;\n",
              "    }\n",
              "\n",
              "    .dataframe tbody tr th {\n",
              "        vertical-align: top;\n",
              "    }\n",
              "\n",
              "    .dataframe thead th {\n",
              "        text-align: right;\n",
              "    }\n",
              "</style>\n",
              "<table border=\"1\" class=\"dataframe\">\n",
              "  <thead>\n",
              "    <tr style=\"text-align: right;\">\n",
              "      <th></th>\n",
              "      <th>date</th>\n",
              "      <th>store_number</th>\n",
              "      <th>county</th>\n",
              "      <th>category</th>\n",
              "      <th>vendor_number</th>\n",
              "      <th>item_number</th>\n",
              "      <th>pack</th>\n",
              "      <th>bottle_volume_ml</th>\n",
              "      <th>state_bottle_cost</th>\n",
              "      <th>state_bottle_retail</th>\n",
              "      <th>bottles_sold</th>\n",
              "      <th>sale_dollars</th>\n",
              "      <th>volume_sold_liters</th>\n",
              "    </tr>\n",
              "  </thead>\n",
              "  <tbody>\n",
              "    <tr>\n",
              "      <th>0</th>\n",
              "      <td>2014-06-02</td>\n",
              "      <td>4969</td>\n",
              "      <td>CERRO GORDO</td>\n",
              "      <td>1051010.0</td>\n",
              "      <td>205</td>\n",
              "      <td>52598</td>\n",
              "      <td>6</td>\n",
              "      <td>1750</td>\n",
              "      <td>11.83</td>\n",
              "      <td>17.75</td>\n",
              "      <td>3</td>\n",
              "      <td>53.25</td>\n",
              "      <td>5.25</td>\n",
              "    </tr>\n",
              "    <tr>\n",
              "      <th>1</th>\n",
              "      <td>2012-09-24</td>\n",
              "      <td>4376</td>\n",
              "      <td>CERRO GORDO</td>\n",
              "      <td>1062310.0</td>\n",
              "      <td>260</td>\n",
              "      <td>43334</td>\n",
              "      <td>24</td>\n",
              "      <td>375</td>\n",
              "      <td>4.50</td>\n",
              "      <td>6.74</td>\n",
              "      <td>7</td>\n",
              "      <td>47.18</td>\n",
              "      <td>2.62</td>\n",
              "    </tr>\n",
              "    <tr>\n",
              "      <th>2</th>\n",
              "      <td>2015-08-26</td>\n",
              "      <td>4232</td>\n",
              "      <td>APPANOOSE</td>\n",
              "      <td>1041200.0</td>\n",
              "      <td>434</td>\n",
              "      <td>33717</td>\n",
              "      <td>12</td>\n",
              "      <td>1000</td>\n",
              "      <td>5.42</td>\n",
              "      <td>8.13</td>\n",
              "      <td>5</td>\n",
              "      <td>40.65</td>\n",
              "      <td>5.00</td>\n",
              "    </tr>\n",
              "    <tr>\n",
              "      <th>3</th>\n",
              "      <td>2023-05-05</td>\n",
              "      <td>5740</td>\n",
              "      <td>MARION</td>\n",
              "      <td>1081600.0</td>\n",
              "      <td>421</td>\n",
              "      <td>64870</td>\n",
              "      <td>48</td>\n",
              "      <td>100</td>\n",
              "      <td>1.00</td>\n",
              "      <td>1.50</td>\n",
              "      <td>192</td>\n",
              "      <td>288.00</td>\n",
              "      <td>19.20</td>\n",
              "    </tr>\n",
              "    <tr>\n",
              "      <th>4</th>\n",
              "      <td>2016-09-06</td>\n",
              "      <td>2649</td>\n",
              "      <td>DUBUQUE</td>\n",
              "      <td>1031100.0</td>\n",
              "      <td>55</td>\n",
              "      <td>37937</td>\n",
              "      <td>12</td>\n",
              "      <td>1000</td>\n",
              "      <td>4.42</td>\n",
              "      <td>6.63</td>\n",
              "      <td>4</td>\n",
              "      <td>26.52</td>\n",
              "      <td>4.00</td>\n",
              "    </tr>\n",
              "  </tbody>\n",
              "</table>\n",
              "</div>\n",
              "    <div class=\"colab-df-buttons\">\n",
              "\n",
              "  <div class=\"colab-df-container\">\n",
              "    <button class=\"colab-df-convert\" onclick=\"convertToInteractive('df-ab990c39-2680-4db3-9b10-0afda5d49807')\"\n",
              "            title=\"Convert this dataframe to an interactive table.\"\n",
              "            style=\"display:none;\">\n",
              "\n",
              "  <svg xmlns=\"http://www.w3.org/2000/svg\" height=\"24px\" viewBox=\"0 -960 960 960\">\n",
              "    <path d=\"M120-120v-720h720v720H120Zm60-500h600v-160H180v160Zm220 220h160v-160H400v160Zm0 220h160v-160H400v160ZM180-400h160v-160H180v160Zm440 0h160v-160H620v160ZM180-180h160v-160H180v160Zm440 0h160v-160H620v160Z\"/>\n",
              "  </svg>\n",
              "    </button>\n",
              "\n",
              "  <style>\n",
              "    .colab-df-container {\n",
              "      display:flex;\n",
              "      gap: 12px;\n",
              "    }\n",
              "\n",
              "    .colab-df-convert {\n",
              "      background-color: #E8F0FE;\n",
              "      border: none;\n",
              "      border-radius: 50%;\n",
              "      cursor: pointer;\n",
              "      display: none;\n",
              "      fill: #1967D2;\n",
              "      height: 32px;\n",
              "      padding: 0 0 0 0;\n",
              "      width: 32px;\n",
              "    }\n",
              "\n",
              "    .colab-df-convert:hover {\n",
              "      background-color: #E2EBFA;\n",
              "      box-shadow: 0px 1px 2px rgba(60, 64, 67, 0.3), 0px 1px 3px 1px rgba(60, 64, 67, 0.15);\n",
              "      fill: #174EA6;\n",
              "    }\n",
              "\n",
              "    .colab-df-buttons div {\n",
              "      margin-bottom: 4px;\n",
              "    }\n",
              "\n",
              "    [theme=dark] .colab-df-convert {\n",
              "      background-color: #3B4455;\n",
              "      fill: #D2E3FC;\n",
              "    }\n",
              "\n",
              "    [theme=dark] .colab-df-convert:hover {\n",
              "      background-color: #434B5C;\n",
              "      box-shadow: 0px 1px 3px 1px rgba(0, 0, 0, 0.15);\n",
              "      filter: drop-shadow(0px 1px 2px rgba(0, 0, 0, 0.3));\n",
              "      fill: #FFFFFF;\n",
              "    }\n",
              "  </style>\n",
              "\n",
              "    <script>\n",
              "      const buttonEl =\n",
              "        document.querySelector('#df-ab990c39-2680-4db3-9b10-0afda5d49807 button.colab-df-convert');\n",
              "      buttonEl.style.display =\n",
              "        google.colab.kernel.accessAllowed ? 'block' : 'none';\n",
              "\n",
              "      async function convertToInteractive(key) {\n",
              "        const element = document.querySelector('#df-ab990c39-2680-4db3-9b10-0afda5d49807');\n",
              "        const dataTable =\n",
              "          await google.colab.kernel.invokeFunction('convertToInteractive',\n",
              "                                                    [key], {});\n",
              "        if (!dataTable) return;\n",
              "\n",
              "        const docLinkHtml = 'Like what you see? Visit the ' +\n",
              "          '<a target=\"_blank\" href=https://colab.research.google.com/notebooks/data_table.ipynb>data table notebook</a>'\n",
              "          + ' to learn more about interactive tables.';\n",
              "        element.innerHTML = '';\n",
              "        dataTable['output_type'] = 'display_data';\n",
              "        await google.colab.output.renderOutput(dataTable, element);\n",
              "        const docLink = document.createElement('div');\n",
              "        docLink.innerHTML = docLinkHtml;\n",
              "        element.appendChild(docLink);\n",
              "      }\n",
              "    </script>\n",
              "  </div>\n",
              "\n",
              "\n",
              "    <div id=\"df-102ae7a1-3bf2-4f2f-81c6-dcc5b527f586\">\n",
              "      <button class=\"colab-df-quickchart\" onclick=\"quickchart('df-102ae7a1-3bf2-4f2f-81c6-dcc5b527f586')\"\n",
              "                title=\"Suggest charts\"\n",
              "                style=\"display:none;\">\n",
              "\n",
              "<svg xmlns=\"http://www.w3.org/2000/svg\" height=\"24px\"viewBox=\"0 0 24 24\"\n",
              "     width=\"24px\">\n",
              "    <g>\n",
              "        <path d=\"M19 3H5c-1.1 0-2 .9-2 2v14c0 1.1.9 2 2 2h14c1.1 0 2-.9 2-2V5c0-1.1-.9-2-2-2zM9 17H7v-7h2v7zm4 0h-2V7h2v10zm4 0h-2v-4h2v4z\"/>\n",
              "    </g>\n",
              "</svg>\n",
              "      </button>\n",
              "\n",
              "<style>\n",
              "  .colab-df-quickchart {\n",
              "      --bg-color: #E8F0FE;\n",
              "      --fill-color: #1967D2;\n",
              "      --hover-bg-color: #E2EBFA;\n",
              "      --hover-fill-color: #174EA6;\n",
              "      --disabled-fill-color: #AAA;\n",
              "      --disabled-bg-color: #DDD;\n",
              "  }\n",
              "\n",
              "  [theme=dark] .colab-df-quickchart {\n",
              "      --bg-color: #3B4455;\n",
              "      --fill-color: #D2E3FC;\n",
              "      --hover-bg-color: #434B5C;\n",
              "      --hover-fill-color: #FFFFFF;\n",
              "      --disabled-bg-color: #3B4455;\n",
              "      --disabled-fill-color: #666;\n",
              "  }\n",
              "\n",
              "  .colab-df-quickchart {\n",
              "    background-color: var(--bg-color);\n",
              "    border: none;\n",
              "    border-radius: 50%;\n",
              "    cursor: pointer;\n",
              "    display: none;\n",
              "    fill: var(--fill-color);\n",
              "    height: 32px;\n",
              "    padding: 0;\n",
              "    width: 32px;\n",
              "  }\n",
              "\n",
              "  .colab-df-quickchart:hover {\n",
              "    background-color: var(--hover-bg-color);\n",
              "    box-shadow: 0 1px 2px rgba(60, 64, 67, 0.3), 0 1px 3px 1px rgba(60, 64, 67, 0.15);\n",
              "    fill: var(--button-hover-fill-color);\n",
              "  }\n",
              "\n",
              "  .colab-df-quickchart-complete:disabled,\n",
              "  .colab-df-quickchart-complete:disabled:hover {\n",
              "    background-color: var(--disabled-bg-color);\n",
              "    fill: var(--disabled-fill-color);\n",
              "    box-shadow: none;\n",
              "  }\n",
              "\n",
              "  .colab-df-spinner {\n",
              "    border: 2px solid var(--fill-color);\n",
              "    border-color: transparent;\n",
              "    border-bottom-color: var(--fill-color);\n",
              "    animation:\n",
              "      spin 1s steps(1) infinite;\n",
              "  }\n",
              "\n",
              "  @keyframes spin {\n",
              "    0% {\n",
              "      border-color: transparent;\n",
              "      border-bottom-color: var(--fill-color);\n",
              "      border-left-color: var(--fill-color);\n",
              "    }\n",
              "    20% {\n",
              "      border-color: transparent;\n",
              "      border-left-color: var(--fill-color);\n",
              "      border-top-color: var(--fill-color);\n",
              "    }\n",
              "    30% {\n",
              "      border-color: transparent;\n",
              "      border-left-color: var(--fill-color);\n",
              "      border-top-color: var(--fill-color);\n",
              "      border-right-color: var(--fill-color);\n",
              "    }\n",
              "    40% {\n",
              "      border-color: transparent;\n",
              "      border-right-color: var(--fill-color);\n",
              "      border-top-color: var(--fill-color);\n",
              "    }\n",
              "    60% {\n",
              "      border-color: transparent;\n",
              "      border-right-color: var(--fill-color);\n",
              "    }\n",
              "    80% {\n",
              "      border-color: transparent;\n",
              "      border-right-color: var(--fill-color);\n",
              "      border-bottom-color: var(--fill-color);\n",
              "    }\n",
              "    90% {\n",
              "      border-color: transparent;\n",
              "      border-bottom-color: var(--fill-color);\n",
              "    }\n",
              "  }\n",
              "</style>\n",
              "\n",
              "      <script>\n",
              "        async function quickchart(key) {\n",
              "          const quickchartButtonEl =\n",
              "            document.querySelector('#' + key + ' button');\n",
              "          quickchartButtonEl.disabled = true;  // To prevent multiple clicks.\n",
              "          quickchartButtonEl.classList.add('colab-df-spinner');\n",
              "          try {\n",
              "            const charts = await google.colab.kernel.invokeFunction(\n",
              "                'suggestCharts', [key], {});\n",
              "          } catch (error) {\n",
              "            console.error('Error during call to suggestCharts:', error);\n",
              "          }\n",
              "          quickchartButtonEl.classList.remove('colab-df-spinner');\n",
              "          quickchartButtonEl.classList.add('colab-df-quickchart-complete');\n",
              "        }\n",
              "        (() => {\n",
              "          let quickchartButtonEl =\n",
              "            document.querySelector('#df-102ae7a1-3bf2-4f2f-81c6-dcc5b527f586 button');\n",
              "          quickchartButtonEl.style.display =\n",
              "            google.colab.kernel.accessAllowed ? 'block' : 'none';\n",
              "        })();\n",
              "      </script>\n",
              "    </div>\n",
              "\n",
              "    </div>\n",
              "  </div>\n"
            ],
            "application/vnd.google.colaboratory.intrinsic+json": {
              "type": "dataframe",
              "summary": "{\n  \"name\": \"df_redundant_del\",\n  \"rows\": 5,\n  \"fields\": [\n    {\n      \"column\": \"date\",\n      \"properties\": {\n        \"dtype\": \"date32[day][pyarrow]\",\n        \"num_unique_values\": 5,\n        \"samples\": [\n          \"2012-09-24\",\n          \"2016-09-06\",\n          \"2015-08-26\"\n        ],\n        \"semantic_type\": \"\",\n        \"description\": \"\"\n      }\n    },\n    {\n      \"column\": \"store_number\",\n      \"properties\": {\n        \"dtype\": \"string\",\n        \"num_unique_values\": 5,\n        \"samples\": [\n          \"4376\",\n          \"2649\",\n          \"4232\"\n        ],\n        \"semantic_type\": \"\",\n        \"description\": \"\"\n      }\n    },\n    {\n      \"column\": \"county\",\n      \"properties\": {\n        \"dtype\": \"string\",\n        \"num_unique_values\": 4,\n        \"samples\": [\n          \"APPANOOSE\",\n          \"DUBUQUE\",\n          \"CERRO GORDO\"\n        ],\n        \"semantic_type\": \"\",\n        \"description\": \"\"\n      }\n    },\n    {\n      \"column\": \"category\",\n      \"properties\": {\n        \"dtype\": \"string\",\n        \"num_unique_values\": 5,\n        \"samples\": [\n          \"1062310.0\",\n          \"1031100.0\",\n          \"1041200.0\"\n        ],\n        \"semantic_type\": \"\",\n        \"description\": \"\"\n      }\n    },\n    {\n      \"column\": \"vendor_number\",\n      \"properties\": {\n        \"dtype\": \"string\",\n        \"num_unique_values\": 5,\n        \"samples\": [\n          \"260\",\n          \"55\",\n          \"434\"\n        ],\n        \"semantic_type\": \"\",\n        \"description\": \"\"\n      }\n    },\n    {\n      \"column\": \"item_number\",\n      \"properties\": {\n        \"dtype\": \"string\",\n        \"num_unique_values\": 5,\n        \"samples\": [\n          \"43334\",\n          \"37937\",\n          \"33717\"\n        ],\n        \"semantic_type\": \"\",\n        \"description\": \"\"\n      }\n    },\n    {\n      \"column\": \"pack\",\n      \"properties\": {\n        \"dtype\": \"number\",\n        \"std\": 16,\n        \"min\": 6,\n        \"max\": 48,\n        \"num_unique_values\": 4,\n        \"samples\": [\n          24,\n          48,\n          6\n        ],\n        \"semantic_type\": \"\",\n        \"description\": \"\"\n      }\n    },\n    {\n      \"column\": \"bottle_volume_ml\",\n      \"properties\": {\n        \"dtype\": \"number\",\n        \"std\": 640,\n        \"min\": 100,\n        \"max\": 1750,\n        \"num_unique_values\": 4,\n        \"samples\": [\n          375,\n          100,\n          1750\n        ],\n        \"semantic_type\": \"\",\n        \"description\": \"\"\n      }\n    },\n    {\n      \"column\": \"state_bottle_cost\",\n      \"properties\": {\n        \"dtype\": \"number\",\n        \"std\": 3.9518957476127836,\n        \"min\": 1.0,\n        \"max\": 11.83,\n        \"num_unique_values\": 5,\n        \"samples\": [\n          4.5,\n          4.42,\n          5.42\n        ],\n        \"semantic_type\": \"\",\n        \"description\": \"\"\n      }\n    },\n    {\n      \"column\": \"state_bottle_retail\",\n      \"properties\": {\n        \"dtype\": \"number\",\n        \"std\": 5.930459510021125,\n        \"min\": 1.5,\n        \"max\": 17.75,\n        \"num_unique_values\": 5,\n        \"samples\": [\n          6.74,\n          6.63,\n          8.13\n        ],\n        \"semantic_type\": \"\",\n        \"description\": \"\"\n      }\n    },\n    {\n      \"column\": \"bottles_sold\",\n      \"properties\": {\n        \"dtype\": \"number\",\n        \"std\": 83,\n        \"min\": 3,\n        \"max\": 192,\n        \"num_unique_values\": 5,\n        \"samples\": [\n          7,\n          4,\n          5\n        ],\n        \"semantic_type\": \"\",\n        \"description\": \"\"\n      }\n    },\n    {\n      \"column\": \"sale_dollars\",\n      \"properties\": {\n        \"dtype\": \"number\",\n        \"std\": 110.50675974799009,\n        \"min\": 26.52,\n        \"max\": 288.0,\n        \"num_unique_values\": 5,\n        \"samples\": [\n          47.18,\n          26.52,\n          40.65\n        ],\n        \"semantic_type\": \"\",\n        \"description\": \"\"\n      }\n    },\n    {\n      \"column\": \"volume_sold_liters\",\n      \"properties\": {\n        \"dtype\": \"number\",\n        \"std\": 6.779710908291002,\n        \"min\": 2.62,\n        \"max\": 19.2,\n        \"num_unique_values\": 5,\n        \"samples\": [\n          2.62,\n          4.0,\n          5.0\n        ],\n        \"semantic_type\": \"\",\n        \"description\": \"\"\n      }\n    }\n  ]\n}"
            }
          },
          "metadata": {},
          "execution_count": 4
        }
      ]
    },
    {
      "cell_type": "markdown",
      "source": [
        "vendor_numberとcategoryの表示を統一するため一度整数に変換し、再度文字列に戻します。"
      ],
      "metadata": {
        "id": "0-dMfr8WYjzI"
      }
    },
    {
      "cell_type": "code",
      "execution_count": 5,
      "metadata": {
        "id": "iTJeWOAxys-x"
      },
      "outputs": [],
      "source": [
        "df_redundant_del[\"vendor_number\"] = df_redundant_del[\"vendor_number\"].map_partitions(\n",
        "    lambda part: part.astype(float).astype(int).astype(str),\n",
        "    meta=(\"vendor_number\", str)\n",
        ")\n",
        "\n",
        "df_redundant_del[\"category\"] = df_redundant_del[\"category\"].map_partitions(\n",
        "    lambda part: part.astype(float).astype(int).astype(str),\n",
        "    meta=(\"category\", str)\n",
        ")"
      ]
    },
    {
      "cell_type": "markdown",
      "source": [
        "外れ値の確認をするため、記述統計量を表示します。"
      ],
      "metadata": {
        "id": "Jz56IVodZub8"
      }
    },
    {
      "cell_type": "code",
      "execution_count": 6,
      "metadata": {
        "id": "u1bl_iHm3s46",
        "colab": {
          "base_uri": "https://localhost:8080/",
          "height": 301
        },
        "outputId": "c3c2aa28-bb89-4edf-eb42-0d05afd21bd2"
      },
      "outputs": [
        {
          "output_type": "execute_result",
          "data": {
            "text/plain": [
              "                pack bottle_volume_ml state_bottle_cost state_bottle_retail  \\\n",
              "count  31,986,864.00    31,986,864.00     31,986,864.00       31,986,864.00   \n",
              "mean           12.08           870.45             10.97               16.47   \n",
              "std             7.81           617.09             13.60               20.39   \n",
              "min             1.00             0.00              0.00                0.00   \n",
              "25%             6.00           750.00              5.78                8.67   \n",
              "50%            12.00           750.00              8.66               13.01   \n",
              "75%            12.00         1,000.00             13.17               19.82   \n",
              "max           336.00       378,000.00         24,989.02           37,483.53   \n",
              "\n",
              "        bottles_sold   sale_dollars volume_sold_liters  \n",
              "count  31,986,864.00  31,986,864.00      31,986,864.00  \n",
              "mean           10.95         147.91               9.15  \n",
              "std            30.80         520.79              36.47  \n",
              "min          -768.00      -9,720.00          -1,344.00  \n",
              "25%             3.00          37.14               1.50  \n",
              "50%             6.00          78.66               4.80  \n",
              "75%            12.00         153.00              10.50  \n",
              "max        15,000.00     279,557.28          15,000.00  "
            ],
            "text/html": [
              "\n",
              "  <div id=\"df-cde94b0e-b359-4eba-a013-82dbd6d9f0b6\" class=\"colab-df-container\">\n",
              "    <div>\n",
              "<style scoped>\n",
              "    .dataframe tbody tr th:only-of-type {\n",
              "        vertical-align: middle;\n",
              "    }\n",
              "\n",
              "    .dataframe tbody tr th {\n",
              "        vertical-align: top;\n",
              "    }\n",
              "\n",
              "    .dataframe thead th {\n",
              "        text-align: right;\n",
              "    }\n",
              "</style>\n",
              "<table border=\"1\" class=\"dataframe\">\n",
              "  <thead>\n",
              "    <tr style=\"text-align: right;\">\n",
              "      <th></th>\n",
              "      <th>pack</th>\n",
              "      <th>bottle_volume_ml</th>\n",
              "      <th>state_bottle_cost</th>\n",
              "      <th>state_bottle_retail</th>\n",
              "      <th>bottles_sold</th>\n",
              "      <th>sale_dollars</th>\n",
              "      <th>volume_sold_liters</th>\n",
              "    </tr>\n",
              "  </thead>\n",
              "  <tbody>\n",
              "    <tr>\n",
              "      <th>count</th>\n",
              "      <td>31,986,864.00</td>\n",
              "      <td>31,986,864.00</td>\n",
              "      <td>31,986,864.00</td>\n",
              "      <td>31,986,864.00</td>\n",
              "      <td>31,986,864.00</td>\n",
              "      <td>31,986,864.00</td>\n",
              "      <td>31,986,864.00</td>\n",
              "    </tr>\n",
              "    <tr>\n",
              "      <th>mean</th>\n",
              "      <td>12.08</td>\n",
              "      <td>870.45</td>\n",
              "      <td>10.97</td>\n",
              "      <td>16.47</td>\n",
              "      <td>10.95</td>\n",
              "      <td>147.91</td>\n",
              "      <td>9.15</td>\n",
              "    </tr>\n",
              "    <tr>\n",
              "      <th>std</th>\n",
              "      <td>7.81</td>\n",
              "      <td>617.09</td>\n",
              "      <td>13.60</td>\n",
              "      <td>20.39</td>\n",
              "      <td>30.80</td>\n",
              "      <td>520.79</td>\n",
              "      <td>36.47</td>\n",
              "    </tr>\n",
              "    <tr>\n",
              "      <th>min</th>\n",
              "      <td>1.00</td>\n",
              "      <td>0.00</td>\n",
              "      <td>0.00</td>\n",
              "      <td>0.00</td>\n",
              "      <td>-768.00</td>\n",
              "      <td>-9,720.00</td>\n",
              "      <td>-1,344.00</td>\n",
              "    </tr>\n",
              "    <tr>\n",
              "      <th>25%</th>\n",
              "      <td>6.00</td>\n",
              "      <td>750.00</td>\n",
              "      <td>5.78</td>\n",
              "      <td>8.67</td>\n",
              "      <td>3.00</td>\n",
              "      <td>37.14</td>\n",
              "      <td>1.50</td>\n",
              "    </tr>\n",
              "    <tr>\n",
              "      <th>50%</th>\n",
              "      <td>12.00</td>\n",
              "      <td>750.00</td>\n",
              "      <td>8.66</td>\n",
              "      <td>13.01</td>\n",
              "      <td>6.00</td>\n",
              "      <td>78.66</td>\n",
              "      <td>4.80</td>\n",
              "    </tr>\n",
              "    <tr>\n",
              "      <th>75%</th>\n",
              "      <td>12.00</td>\n",
              "      <td>1,000.00</td>\n",
              "      <td>13.17</td>\n",
              "      <td>19.82</td>\n",
              "      <td>12.00</td>\n",
              "      <td>153.00</td>\n",
              "      <td>10.50</td>\n",
              "    </tr>\n",
              "    <tr>\n",
              "      <th>max</th>\n",
              "      <td>336.00</td>\n",
              "      <td>378,000.00</td>\n",
              "      <td>24,989.02</td>\n",
              "      <td>37,483.53</td>\n",
              "      <td>15,000.00</td>\n",
              "      <td>279,557.28</td>\n",
              "      <td>15,000.00</td>\n",
              "    </tr>\n",
              "  </tbody>\n",
              "</table>\n",
              "</div>\n",
              "    <div class=\"colab-df-buttons\">\n",
              "\n",
              "  <div class=\"colab-df-container\">\n",
              "    <button class=\"colab-df-convert\" onclick=\"convertToInteractive('df-cde94b0e-b359-4eba-a013-82dbd6d9f0b6')\"\n",
              "            title=\"Convert this dataframe to an interactive table.\"\n",
              "            style=\"display:none;\">\n",
              "\n",
              "  <svg xmlns=\"http://www.w3.org/2000/svg\" height=\"24px\" viewBox=\"0 -960 960 960\">\n",
              "    <path d=\"M120-120v-720h720v720H120Zm60-500h600v-160H180v160Zm220 220h160v-160H400v160Zm0 220h160v-160H400v160ZM180-400h160v-160H180v160Zm440 0h160v-160H620v160ZM180-180h160v-160H180v160Zm440 0h160v-160H620v160Z\"/>\n",
              "  </svg>\n",
              "    </button>\n",
              "\n",
              "  <style>\n",
              "    .colab-df-container {\n",
              "      display:flex;\n",
              "      gap: 12px;\n",
              "    }\n",
              "\n",
              "    .colab-df-convert {\n",
              "      background-color: #E8F0FE;\n",
              "      border: none;\n",
              "      border-radius: 50%;\n",
              "      cursor: pointer;\n",
              "      display: none;\n",
              "      fill: #1967D2;\n",
              "      height: 32px;\n",
              "      padding: 0 0 0 0;\n",
              "      width: 32px;\n",
              "    }\n",
              "\n",
              "    .colab-df-convert:hover {\n",
              "      background-color: #E2EBFA;\n",
              "      box-shadow: 0px 1px 2px rgba(60, 64, 67, 0.3), 0px 1px 3px 1px rgba(60, 64, 67, 0.15);\n",
              "      fill: #174EA6;\n",
              "    }\n",
              "\n",
              "    .colab-df-buttons div {\n",
              "      margin-bottom: 4px;\n",
              "    }\n",
              "\n",
              "    [theme=dark] .colab-df-convert {\n",
              "      background-color: #3B4455;\n",
              "      fill: #D2E3FC;\n",
              "    }\n",
              "\n",
              "    [theme=dark] .colab-df-convert:hover {\n",
              "      background-color: #434B5C;\n",
              "      box-shadow: 0px 1px 3px 1px rgba(0, 0, 0, 0.15);\n",
              "      filter: drop-shadow(0px 1px 2px rgba(0, 0, 0, 0.3));\n",
              "      fill: #FFFFFF;\n",
              "    }\n",
              "  </style>\n",
              "\n",
              "    <script>\n",
              "      const buttonEl =\n",
              "        document.querySelector('#df-cde94b0e-b359-4eba-a013-82dbd6d9f0b6 button.colab-df-convert');\n",
              "      buttonEl.style.display =\n",
              "        google.colab.kernel.accessAllowed ? 'block' : 'none';\n",
              "\n",
              "      async function convertToInteractive(key) {\n",
              "        const element = document.querySelector('#df-cde94b0e-b359-4eba-a013-82dbd6d9f0b6');\n",
              "        const dataTable =\n",
              "          await google.colab.kernel.invokeFunction('convertToInteractive',\n",
              "                                                    [key], {});\n",
              "        if (!dataTable) return;\n",
              "\n",
              "        const docLinkHtml = 'Like what you see? Visit the ' +\n",
              "          '<a target=\"_blank\" href=https://colab.research.google.com/notebooks/data_table.ipynb>data table notebook</a>'\n",
              "          + ' to learn more about interactive tables.';\n",
              "        element.innerHTML = '';\n",
              "        dataTable['output_type'] = 'display_data';\n",
              "        await google.colab.output.renderOutput(dataTable, element);\n",
              "        const docLink = document.createElement('div');\n",
              "        docLink.innerHTML = docLinkHtml;\n",
              "        element.appendChild(docLink);\n",
              "      }\n",
              "    </script>\n",
              "  </div>\n",
              "\n",
              "\n",
              "    <div id=\"df-e5c29db3-a8d3-4500-abfe-cc27657c1369\">\n",
              "      <button class=\"colab-df-quickchart\" onclick=\"quickchart('df-e5c29db3-a8d3-4500-abfe-cc27657c1369')\"\n",
              "                title=\"Suggest charts\"\n",
              "                style=\"display:none;\">\n",
              "\n",
              "<svg xmlns=\"http://www.w3.org/2000/svg\" height=\"24px\"viewBox=\"0 0 24 24\"\n",
              "     width=\"24px\">\n",
              "    <g>\n",
              "        <path d=\"M19 3H5c-1.1 0-2 .9-2 2v14c0 1.1.9 2 2 2h14c1.1 0 2-.9 2-2V5c0-1.1-.9-2-2-2zM9 17H7v-7h2v7zm4 0h-2V7h2v10zm4 0h-2v-4h2v4z\"/>\n",
              "    </g>\n",
              "</svg>\n",
              "      </button>\n",
              "\n",
              "<style>\n",
              "  .colab-df-quickchart {\n",
              "      --bg-color: #E8F0FE;\n",
              "      --fill-color: #1967D2;\n",
              "      --hover-bg-color: #E2EBFA;\n",
              "      --hover-fill-color: #174EA6;\n",
              "      --disabled-fill-color: #AAA;\n",
              "      --disabled-bg-color: #DDD;\n",
              "  }\n",
              "\n",
              "  [theme=dark] .colab-df-quickchart {\n",
              "      --bg-color: #3B4455;\n",
              "      --fill-color: #D2E3FC;\n",
              "      --hover-bg-color: #434B5C;\n",
              "      --hover-fill-color: #FFFFFF;\n",
              "      --disabled-bg-color: #3B4455;\n",
              "      --disabled-fill-color: #666;\n",
              "  }\n",
              "\n",
              "  .colab-df-quickchart {\n",
              "    background-color: var(--bg-color);\n",
              "    border: none;\n",
              "    border-radius: 50%;\n",
              "    cursor: pointer;\n",
              "    display: none;\n",
              "    fill: var(--fill-color);\n",
              "    height: 32px;\n",
              "    padding: 0;\n",
              "    width: 32px;\n",
              "  }\n",
              "\n",
              "  .colab-df-quickchart:hover {\n",
              "    background-color: var(--hover-bg-color);\n",
              "    box-shadow: 0 1px 2px rgba(60, 64, 67, 0.3), 0 1px 3px 1px rgba(60, 64, 67, 0.15);\n",
              "    fill: var(--button-hover-fill-color);\n",
              "  }\n",
              "\n",
              "  .colab-df-quickchart-complete:disabled,\n",
              "  .colab-df-quickchart-complete:disabled:hover {\n",
              "    background-color: var(--disabled-bg-color);\n",
              "    fill: var(--disabled-fill-color);\n",
              "    box-shadow: none;\n",
              "  }\n",
              "\n",
              "  .colab-df-spinner {\n",
              "    border: 2px solid var(--fill-color);\n",
              "    border-color: transparent;\n",
              "    border-bottom-color: var(--fill-color);\n",
              "    animation:\n",
              "      spin 1s steps(1) infinite;\n",
              "  }\n",
              "\n",
              "  @keyframes spin {\n",
              "    0% {\n",
              "      border-color: transparent;\n",
              "      border-bottom-color: var(--fill-color);\n",
              "      border-left-color: var(--fill-color);\n",
              "    }\n",
              "    20% {\n",
              "      border-color: transparent;\n",
              "      border-left-color: var(--fill-color);\n",
              "      border-top-color: var(--fill-color);\n",
              "    }\n",
              "    30% {\n",
              "      border-color: transparent;\n",
              "      border-left-color: var(--fill-color);\n",
              "      border-top-color: var(--fill-color);\n",
              "      border-right-color: var(--fill-color);\n",
              "    }\n",
              "    40% {\n",
              "      border-color: transparent;\n",
              "      border-right-color: var(--fill-color);\n",
              "      border-top-color: var(--fill-color);\n",
              "    }\n",
              "    60% {\n",
              "      border-color: transparent;\n",
              "      border-right-color: var(--fill-color);\n",
              "    }\n",
              "    80% {\n",
              "      border-color: transparent;\n",
              "      border-right-color: var(--fill-color);\n",
              "      border-bottom-color: var(--fill-color);\n",
              "    }\n",
              "    90% {\n",
              "      border-color: transparent;\n",
              "      border-bottom-color: var(--fill-color);\n",
              "    }\n",
              "  }\n",
              "</style>\n",
              "\n",
              "      <script>\n",
              "        async function quickchart(key) {\n",
              "          const quickchartButtonEl =\n",
              "            document.querySelector('#' + key + ' button');\n",
              "          quickchartButtonEl.disabled = true;  // To prevent multiple clicks.\n",
              "          quickchartButtonEl.classList.add('colab-df-spinner');\n",
              "          try {\n",
              "            const charts = await google.colab.kernel.invokeFunction(\n",
              "                'suggestCharts', [key], {});\n",
              "          } catch (error) {\n",
              "            console.error('Error during call to suggestCharts:', error);\n",
              "          }\n",
              "          quickchartButtonEl.classList.remove('colab-df-spinner');\n",
              "          quickchartButtonEl.classList.add('colab-df-quickchart-complete');\n",
              "        }\n",
              "        (() => {\n",
              "          let quickchartButtonEl =\n",
              "            document.querySelector('#df-e5c29db3-a8d3-4500-abfe-cc27657c1369 button');\n",
              "          quickchartButtonEl.style.display =\n",
              "            google.colab.kernel.accessAllowed ? 'block' : 'none';\n",
              "        })();\n",
              "      </script>\n",
              "    </div>\n",
              "\n",
              "    </div>\n",
              "  </div>\n"
            ],
            "application/vnd.google.colaboratory.intrinsic+json": {
              "type": "dataframe",
              "summary": "{\n  \"name\": \"numeric_df\",\n  \"rows\": 8,\n  \"fields\": [\n    {\n      \"column\": \"pack\",\n      \"properties\": {\n        \"dtype\": \"string\",\n        \"num_unique_values\": 7,\n        \"samples\": [\n          \"31,986,864.00\",\n          \"12.08\",\n          \"12.00\"\n        ],\n        \"semantic_type\": \"\",\n        \"description\": \"\"\n      }\n    },\n    {\n      \"column\": \"bottle_volume_ml\",\n      \"properties\": {\n        \"dtype\": \"string\",\n        \"num_unique_values\": 7,\n        \"samples\": [\n          \"31,986,864.00\",\n          \"870.45\",\n          \"1,000.00\"\n        ],\n        \"semantic_type\": \"\",\n        \"description\": \"\"\n      }\n    },\n    {\n      \"column\": \"state_bottle_cost\",\n      \"properties\": {\n        \"dtype\": \"string\",\n        \"num_unique_values\": 8,\n        \"samples\": [\n          \"10.97\",\n          \"8.66\",\n          \"31,986,864.00\"\n        ],\n        \"semantic_type\": \"\",\n        \"description\": \"\"\n      }\n    },\n    {\n      \"column\": \"state_bottle_retail\",\n      \"properties\": {\n        \"dtype\": \"string\",\n        \"num_unique_values\": 8,\n        \"samples\": [\n          \"16.47\",\n          \"13.01\",\n          \"31,986,864.00\"\n        ],\n        \"semantic_type\": \"\",\n        \"description\": \"\"\n      }\n    },\n    {\n      \"column\": \"bottles_sold\",\n      \"properties\": {\n        \"dtype\": \"string\",\n        \"num_unique_values\": 8,\n        \"samples\": [\n          \"10.95\",\n          \"6.00\",\n          \"31,986,864.00\"\n        ],\n        \"semantic_type\": \"\",\n        \"description\": \"\"\n      }\n    },\n    {\n      \"column\": \"sale_dollars\",\n      \"properties\": {\n        \"dtype\": \"string\",\n        \"num_unique_values\": 8,\n        \"samples\": [\n          \"147.91\",\n          \"78.66\",\n          \"31,986,864.00\"\n        ],\n        \"semantic_type\": \"\",\n        \"description\": \"\"\n      }\n    },\n    {\n      \"column\": \"volume_sold_liters\",\n      \"properties\": {\n        \"dtype\": \"string\",\n        \"num_unique_values\": 8,\n        \"samples\": [\n          \"9.15\",\n          \"4.80\",\n          \"31,986,864.00\"\n        ],\n        \"semantic_type\": \"\",\n        \"description\": \"\"\n      }\n    }\n  ]\n}"
            }
          },
          "metadata": {},
          "execution_count": 6
        }
      ],
      "source": [
        "numeric_df = df_redundant_del.select_dtypes(include=[\"number\"])\n",
        "numeric_df.describe().compute().applymap(lambda x: f\"{x:,.2f}\" if isinstance(x, (int, float)) else x)"
      ]
    },
    {
      "cell_type": "markdown",
      "metadata": {
        "id": "kJqLJc28l5As"
      },
      "source": [
        "✅insight：以下のカラムにおいて現実的に起こりえない外れ値(異常値とみなす)があることがわかります。\n",
        "- state_bottle_cost\t：0はあり得ないため排除\n",
        "- bottles_sold：0以下は異常値のため排除\n",
        "- sale_dollars：0以下は異常値のため排除\n",
        "- state_bottle_retail：0はあり得ないため排除"
      ]
    },
    {
      "cell_type": "markdown",
      "source": [
        "外れ値を排除します。"
      ],
      "metadata": {
        "id": "o5uaZtkIaAMc"
      }
    },
    {
      "cell_type": "code",
      "execution_count": 7,
      "metadata": {
        "id": "z8K-_jIXm6oK"
      },
      "outputs": [],
      "source": [
        "df_redundant_del = df_redundant_del[\n",
        "    (df_redundant_del[\"bottle_volume_ml\"] > 0) &\n",
        "    (df_redundant_del[\"state_bottle_cost\"] > 0) &\n",
        "    (df_redundant_del[\"bottles_sold\"] > 0) &\n",
        "    (df_redundant_del[\"state_bottle_retail\"] > 0) &\n",
        "    (df_redundant_del[\"sale_dollars\"] > 0)\n",
        "]"
      ]
    },
    {
      "cell_type": "markdown",
      "source": [
        "次に特徴量生成を行います。"
      ],
      "metadata": {
        "id": "TS9z0m_RaRxC"
      }
    },
    {
      "cell_type": "markdown",
      "source": [
        "今回は時系列予測は行いませんが、時系列データの特徴量として有効なラグ特徴量を生成します。"
      ],
      "metadata": {
        "id": "RB50WB6GakeZ"
      }
    },
    {
      "cell_type": "code",
      "execution_count": 8,
      "metadata": {
        "id": "r3qEjfQCsMe3"
      },
      "outputs": [],
      "source": [
        "#ラグ特徴量の生成\n",
        "lag_cols = ['sale_dollars', 'bottles_sold', 'volume_sold_liters', 'state_bottle_cost', 'state_bottle_retail']\n",
        "agg_pdf = df_redundant_del.groupby(['store_number', 'date'])[lag_cols].sum().compute().reset_index()\n",
        "\n",
        "for col in lag_cols:\n",
        "    for lag in [1, 7, 30]:\n",
        "        agg_pdf[f'{col}_lag_{lag}'] = (\n",
        "            agg_pdf.groupby('store_number')[col].shift(lag)\n",
        "        )\n",
        "\n",
        "rename_dict = {col: f'date_store_{col}_sum' for col in lag_cols}\n",
        "agg_pdf = agg_pdf.rename(columns=rename_dict)\n",
        "agg_ddf_with_lag = dd.from_pandas(agg_pdf, npartitions=df_redundant_del.npartitions)\n",
        "df_redundant_del = df_redundant_del.merge(agg_ddf_with_lag, on=['store_number', 'date'], how='left')"
      ]
    },
    {
      "cell_type": "markdown",
      "source": [
        "ラグ特徴量生成時に発生したnanは中央値で補完します。"
      ],
      "metadata": {
        "id": "TgJRGFSvalKE"
      }
    },
    {
      "cell_type": "code",
      "source": [
        "#発生したnanを中央値で補完\n",
        "lag_cols=['sale_dollars_lag_1','sale_dollars_lag_7','sale_dollars_lag_30',\n",
        "          'bottles_sold_lag_1','bottles_sold_lag_7', 'bottles_sold_lag_30',\n",
        "          'volume_sold_liters_lag_1','volume_sold_liters_lag_7', 'volume_sold_liters_lag_30',\n",
        "          'state_bottle_cost_lag_1', 'state_bottle_cost_lag_7','state_bottle_cost_lag_30',\n",
        "          'state_bottle_retail_lag_1','state_bottle_retail_lag_7', 'state_bottle_retail_lag_30']\n",
        "for col in lag_cols:\n",
        "  median_value = df_redundant_del[col].compute().median()\n",
        "  df_redundant_del[col] = df_redundant_del[col].fillna(median_value)"
      ],
      "metadata": {
        "id": "_paJ6q8q_dpU"
      },
      "execution_count": 9,
      "outputs": []
    },
    {
      "cell_type": "markdown",
      "source": [
        "その他、重要だと考えられる特徴量も併せて生成します。"
      ],
      "metadata": {
        "id": "f81S-GPwasi6"
      }
    },
    {
      "cell_type": "code",
      "execution_count": 10,
      "metadata": {
        "id": "h-CqD-gwQWp0"
      },
      "outputs": [],
      "source": [
        "#リットル単価\n",
        "df_redundant_del[\"sales_per_L\"]=df_redundant_del[\"sale_dollars\"]/df_redundant_del[\"volume_sold_liters\"]\n",
        "# 日付列をdatetime型に変換\n",
        "df_redundant_del[\"date\"] = dd.to_datetime(df_redundant_del[\"date\"])\n",
        "\n",
        "df_redundant_del[\"year\"] = df_redundant_del[\"date\"].dt.year#年\n",
        "df_redundant_del[\"month\"] = df_redundant_del[\"date\"].dt.month#月\n",
        "df_redundant_del[\"day_of_week\"] = df_redundant_del[\"date\"].dt.dayofweek#曜日\n",
        "holidays = calendar.holidays(start=\"2012-01-01\", end=\"2025-12-31\")\n",
        "df_redundant_del[\"is_holiday\"] = df_redundant_del[\"date\"].isin(holidays)#休日"
      ]
    },
    {
      "cell_type": "markdown",
      "metadata": {
        "id": "xMUvR4L4oTjn"
      },
      "source": [
        "##### 分布と変数間の関連性の可視化"
      ]
    },
    {
      "cell_type": "markdown",
      "source": [
        "メモリクラッシュ回避のため、グラフとして描画するデータは全体データの1%とします。"
      ],
      "metadata": {
        "id": "8UrKfKa3bVmz"
      }
    },
    {
      "cell_type": "code",
      "execution_count": 11,
      "metadata": {
        "id": "DkhwSQAz6_mU"
      },
      "outputs": [],
      "source": [
        "sample_df = df_redundant_del.sample(frac=0.01).compute()"
      ]
    },
    {
      "cell_type": "markdown",
      "source": [
        "量的変数の分布を確認します。"
      ],
      "metadata": {
        "id": "FrLA7jUohgGT"
      }
    },
    {
      "cell_type": "code",
      "execution_count": 12,
      "metadata": {
        "id": "o1Us8yp0v93u",
        "colab": {
          "base_uri": "https://localhost:8080/",
          "height": 1000
        },
        "outputId": "ec536084-c283-41b9-ba90-0615d5d3c8e5"
      },
      "outputs": [
        {
          "output_type": "display_data",
          "data": {
            "text/plain": [
              "<Figure size 1000x300 with 2 Axes>"
            ],
            "image/png": "[encoded data removed]"
          },
          "metadata": {}
        },
        {
          "output_type": "display_data",
          "data": {
            "text/plain": [
              "<Figure size 1000x300 with 2 Axes>"
            ],
            "image/png": "[encoded data removed]"
          },
          "metadata": {}
        },
        {
          "output_type": "display_data",
          "data": {
            "text/plain": [
              "<Figure size 1000x300 with 2 Axes>"
            ],
            "image/png": "[encoded data removed]"
          },
          "metadata": {}
        },
        {
          "output_type": "display_data",
          "data": {
            "text/plain": [
              "<Figure size 1000x300 with 2 Axes>"
            ],
            "image/png": "[encoded data removed]"
          },
          "metadata": {}
        },
        {
          "output_type": "display_data",
          "data": {
            "text/plain": [
              "<Figure size 1000x300 with 2 Axes>"
            ],
            "image/png": "[encoded data removed]"
          },
          "metadata": {}
        },
        {
          "output_type": "display_data",
          "data": {
            "text/plain": [
              "<Figure size 1000x300 with 2 Axes>"
            ],
            "image/png": "[encoded data removed]"
          },
          "metadata": {}
        },
        {
          "output_type": "display_data",
          "data": {
            "text/plain": [
              "<Figure size 1000x300 with 2 Axes>"
            ],
            "image/png": "[encoded data removed]"
          },
          "metadata": {}
        }
      ],
      "source": [
        "numerical_cols=[\"pack\",\"bottle_volume_ml\",\"state_bottle_cost\",\"state_bottle_retail\",\"bottles_sold\",\"sale_dollars\",\"volume_sold_liters\"]\n",
        "\n",
        "Q1 = sample_df[numerical_cols].quantile(0.25)\n",
        "Q3 = sample_df[numerical_cols].quantile(0.75)\n",
        "IQR = Q3 - Q1\n",
        "lower_bound = Q1 - 1.5 * IQR\n",
        "upper_bound = Q3 + 1.5 * IQR\n",
        "\n",
        "sample_df_cleaned = sample_df.copy()\n",
        "for col in numerical_cols:\n",
        "  sample_df_cleaned = sample_df_cleaned[(sample_df_cleaned[col] >= lower_bound[col]) & (sample_df_cleaned[col] <= upper_bound[col])]\n",
        "\n",
        "for col in numerical_cols:\n",
        "  fig, axes = plt.subplots(1, 2, figsize=(10, 3))\n",
        "  sns.histplot(data=sample_df_cleaned, x=col, ax=axes[0], kde=True)\n",
        "  axes[0].set_title(f' {col}')\n",
        "  axes[0].set_xlabel(col)\n",
        "  axes[0].set_ylabel('Frequency')\n",
        "\n",
        "  sns.boxplot(data=sample_df_cleaned, x=col, ax=axes[1])\n",
        "  axes[1].set_title(f'{col}')\n",
        "  axes[1].set_xlabel(col)\n",
        "  axes[1].set_ylabel('')\n",
        "\n",
        "  plt.tight_layout()\n",
        "  plt.show()"
      ]
    },
    {
      "cell_type": "code",
      "execution_count": 21,
      "metadata": {
        "id": "kZv6jr0IvASa",
        "colab": {
          "base_uri": "https://localhost:8080/",
          "height": 659
        },
        "outputId": "a7c9786e-cab0-4751-e02c-0a597b1748fc"
      },
      "outputs": [
        {
          "output_type": "display_data",
          "data": {
            "text/plain": [
              "<Figure size 800x600 with 2 Axes>"
            ],
            "image/png": "[encoded data removed]"
          },
          "metadata": {}
        }
      ],
      "source": [
        "#各変数間の相関\n",
        "plt.figure(figsize=(8, 6))\n",
        "sns.heatmap(sample_df[numerical_cols].corr(numeric_only=True), annot=True, fmt=\".2f\", cmap='coolwarm')\n",
        "plt.title('Correlation Heatmap of Numerical Variables')\n",
        "plt.show()"
      ]
    },
    {
      "cell_type": "markdown",
      "metadata": {
        "id": "g3vRpzQ5pW9V"
      },
      "source": [
        "✅insight：\n",
        "- volume_sold_littersとbottles_sold高相関な理由：本数が売れるほど、売り上げた総容量も大きくなる\n",
        "- bottles_sold、volume_sold_littersとsaledollars高相関な理由：総容量が売り上げに貢献している\n"
      ]
    },
    {
      "cell_type": "code",
      "execution_count": 23,
      "metadata": {
        "id": "ony7Ve9huWeB",
        "colab": {
          "base_uri": "https://localhost:8080/",
          "height": 807
        },
        "outputId": "13dc429c-4819-4ee0-c4a7-f832581d95de"
      },
      "outputs": [
        {
          "output_type": "display_data",
          "data": {
            "text/plain": [
              "<Figure size 1600x800 with 6 Axes>"
            ],
            "image/png": "[encoded data removed]"
          },
          "metadata": {}
        }
      ],
      "source": [
        "#量的変数と'sale_dollars'の関係性可視化\n",
        "numeric_cols_excluding_target = numerical_cols\n",
        "numeric_cols_excluding_target.remove('sale_dollars')\n",
        "\n",
        "n_cols = 4\n",
        "n_rows = (len(numeric_cols_excluding_target) + n_cols - 1) // n_cols\n",
        "\n",
        "fig, axes = plt.subplots(n_rows, n_cols, figsize=(4 * n_cols, 4 * n_rows))\n",
        "axes = axes.flatten()\n",
        "\n",
        "for i, col in enumerate(numeric_cols_excluding_target):\n",
        "    sns.scatterplot(x=col, y='sale_dollars', data=sample_df, ax=axes[i], alpha=0.5)\n",
        "    axes[i].set_title(f'{col} vs Sale Dollars')\n",
        "    axes[i].set_xlabel(col)\n",
        "    axes[i].set_ylabel('Sale Dollars')\n",
        "\n",
        "# 残りの空のサブプロットを非表示にする\n",
        "for j in range(i + 1, len(axes)):\n",
        "    fig.delaxes(axes[j])\n",
        "\n",
        "plt.tight_layout()\n",
        "plt.show()"
      ]
    },
    {
      "cell_type": "code",
      "execution_count": 15,
      "metadata": {
        "id": "FqWp4vdZIVb3",
        "colab": {
          "base_uri": "https://localhost:8080/"
        },
        "outputId": "7d2136a9-cca0-4fe2-f6bd-46a8595bc6b6"
      },
      "outputs": [
        {
          "output_type": "stream",
          "name": "stdout",
          "text": [
            "store_number\n",
            "3773     298560\n",
            "2633     258784\n",
            "4829     227666\n",
            "2190     190891\n",
            "2572     167891\n",
            "          ...  \n",
            "9934          2\n",
            "10572         1\n",
            "9938          1\n",
            "9017          1\n",
            "9937          1\n",
            "Name: count, Length: 3241, dtype: int64[pyarrow]\n",
            "county\n",
            "POLK          5917624\n",
            "LINN          2795200\n",
            "SCOTT         1898938\n",
            "BLACK HAWK    1773782\n",
            "JOHNSON       1555043\n",
            "               ...   \n",
            "WAYNE           25906\n",
            "DAVIS           21337\n",
            "RINGGOLD        20710\n",
            "FREMONT         12611\n",
            "EL PASO             2\n",
            "Name: count, Length: 100, dtype: int64[pyarrow]\n",
            "category\n",
            "1031100    3420851\n",
            "1012100    3050255\n",
            "1011200    2095175\n",
            "1031200    1566598\n",
            "1081600    1548157\n",
            "            ...   \n",
            "101220           6\n",
            "1089290          1\n",
            "1011000          1\n",
            "1082300          1\n",
            "1900000          1\n",
            "Name: count, Length: 114, dtype: int64\n",
            "vendor_number\n",
            "260    5192462\n",
            "421    3178201\n",
            "65     2864268\n",
            "434    2653037\n",
            "370    1839314\n",
            "        ...   \n",
            "436          1\n",
            "853          1\n",
            "714          1\n",
            "622          1\n",
            "855          1\n",
            "Name: count, Length: 513, dtype: int64\n"
          ]
        }
      ],
      "source": [
        "#質的変数の分布\n",
        "categorical_cols = ['store_number',\"county\",\"category\",\"vendor_number\",]\n",
        "value_counts_dict = {}\n",
        "for col in categorical_cols:\n",
        "    value_counts_dict[col] = df_redundant_del[col].value_counts().compute().sort_values(ascending=False)\n",
        "    print(value_counts_dict[col])"
      ]
    },
    {
      "cell_type": "markdown",
      "metadata": {
        "id": "Q2rajiMUDyUe"
      },
      "source": [
        "✅insight：\n",
        "- 各カテゴリ変数に偏りがあることがわかります。このままone-Hotエンコーディングを行うのはカラム数が爆発的に増大してしまうため適しません。また、下位〇〇件を\"other\"とする方法では、個々のカテゴリの意味が失われてしまう可能性があります。よって今回はターゲットエンコーディングを採用します。(中央値で置換)"
      ]
    },
    {
      "cell_type": "code",
      "execution_count": 20,
      "metadata": {
        "id": "HhbfuTy0tYsI",
        "colab": {
          "base_uri": "https://localhost:8080/",
          "height": 491
        },
        "outputId": "887aa7a9-62ce-4bff-e3c0-50db90b46a53"
      },
      "outputs": [
        {
          "output_type": "display_data",
          "data": {
            "text/plain": [
              "<Figure size 2500x500 with 4 Axes>"
            ],
            "image/png": "[encoded data removed]"
          },
          "metadata": {}
        }
      ],
      "source": [
        "#質的変数(日付関連)と'sale_dollars'の関係性可視化\n",
        "cols_to_visualize = ['year', 'month', 'day_of_week', 'is_holiday']\n",
        "fig, axes = plt.subplots(1, len(cols_to_visualize), figsize=(25, 5))\n",
        "\n",
        "for i, col in enumerate(cols_to_visualize):\n",
        "    Q1 = sample_df['sale_dollars'].quantile(0.25)\n",
        "    Q3 = sample_df['sale_dollars'].quantile(0.75)\n",
        "    IQR = Q3 - Q1\n",
        "    lower_bound = Q1 - 1.5 * IQR\n",
        "    upper_bound = Q3 + 1.5 * IQR\n",
        "    trimmed_sale_dollars = sample_df[(sample_df['sale_dollars'] >= lower_bound) & (sample_df['sale_dollars'] <= upper_bound)]\n",
        "    sns.boxplot(x=col, y='sale_dollars', data=trimmed_sale_dollars, ax=axes[i], showfliers=False)\n",
        "    axes[i].set_title(f'Sale Dollars Distribution by {col}')\n",
        "    axes[i].set_xlabel(col)\n",
        "    axes[i].set_ylabel('Sale Dollars (Outliers Removed)')\n",
        "\n",
        "plt.tight_layout()\n",
        "plt.show()"
      ]
    },
    {
      "cell_type": "markdown",
      "source": [
        "✅insight：\n",
        "- 2012～2025年にかけて売上のレンジが増大していることがわかります。  \n",
        "その他比較に関しては、あまり差がないという結果になりました。"
      ],
      "metadata": {
        "id": "0rcCas_XjQ4A"
      }
    },
    {
      "cell_type": "code",
      "execution_count": 18,
      "metadata": {
        "id": "EtBoa4BRzQ9V",
        "colab": {
          "base_uri": "https://localhost:8080/"
        },
        "outputId": "d1623920-f3a1-4f5c-b085-961a9975898b"
      },
      "outputs": [
        {
          "output_type": "stream",
          "name": "stderr",
          "text": [
            "/usr/local/lib/python3.11/dist-packages/dask_expr/_collection.py:301: UserWarning: Dask annotations {'retries': 5} detected. Annotations will be ignored when using query-planning.\n",
            "  warnings.warn(\n"
          ]
        }
      ],
      "source": [
        "df_redundant_del.reset_index(drop=True)[sorted(df_redundant_del.columns)]\n",
        "df_redundant_del.to_parquet(\"gs://iowa_liquor_sales_ml/cleaned_data/Feature Eng\", write_index=False)"
      ]
    },
    {
      "cell_type": "markdown",
      "metadata": {
        "id": "r1Zj8OJDz7Nc"
      },
      "source": [
        "##### モデル作成・評価"
      ]
    },
    {
      "cell_type": "markdown",
      "metadata": {
        "id": "OQsMKcjxWvyn"
      },
      "source": [
        "###### 学習データとテストデータの作成"
      ]
    },
    {
      "cell_type": "code",
      "execution_count": null,
      "metadata": {
        "id": "uKTvT0X465XL"
      },
      "outputs": [],
      "source": [
        "gcs_path = \"gs://iowa_liquor_sales_ml/cleaned_data/Feature Eng/*.parquet\"\n",
        "all_data = dd.read_parquet(\n",
        "    gcs_path,\n",
        "    storage_options={\"token\": \"cloud\"},\n",
        "    engine=\"pyarrow\"\n",
        ")"
      ]
    },
    {
      "cell_type": "code",
      "execution_count": null,
      "metadata": {
        "colab": {
          "base_uri": "https://localhost:8080/"
        },
        "id": "txmGCsPLXx7M",
        "outputId": "a5037247-8178-4c89-d9d8-5d416b8169e3"
      },
      "outputs": [
        {
          "output_type": "stream",
          "name": "stdout",
          "text": [
            "質的変数のカラム名: ['store_number', 'county', 'category', 'vendor_number', 'item_number', 'year', 'month', 'day_of_week', 'is_holiday']\n",
            "量的変数のカラム名: ['pack', 'bottle_volume_ml', 'state_bottle_cost', 'state_bottle_retail', 'bottles_sold', 'volume_sold_liters', 'date_store_sale_dollars_sum', 'date_store_bottles_sold_sum', 'date_store_volume_sold_liters_sum', 'date_store_state_bottle_cost_sum', 'date_store_state_bottle_retail_sum', 'sale_dollars_lag_1', 'sale_dollars_lag_7', 'sale_dollars_lag_30', 'bottles_sold_lag_1', 'bottles_sold_lag_7', 'bottles_sold_lag_30', 'volume_sold_liters_lag_1', 'volume_sold_liters_lag_7', 'volume_sold_liters_lag_30', 'state_bottle_cost_lag_1', 'state_bottle_cost_lag_7', 'state_bottle_cost_lag_30', 'state_bottle_retail_lag_1', 'state_bottle_retail_lag_7', 'state_bottle_retail_lag_30', 'sales_per_L']\n"
          ]
        }
      ],
      "source": [
        "#目的変数の定義\n",
        "target = \"sale_dollars\"\n",
        "#説明変数の定義\n",
        "quantitative_features = [col for col in all_data.columns if col not in [target, 'date']]\n",
        "\n",
        "#質的変数の定義\n",
        "categorical_cols = ['store_number',\"county\",\"category\",\"vendor_number\",\"item_number\",'year', 'month', 'day_of_week', 'is_holiday']\n",
        "#量的変数の定義\n",
        "numeric_cols = [col for col in quantitative_features if col not in categorical_cols]\n",
        "print(\"質的変数のカラム名:\", categorical_cols)\n",
        "print(\"量的変数のカラム名:\", numeric_cols)\n",
        "\n",
        "#重回帰モデル用データをサンプリング\n",
        "sample_fraction = 0.01\n",
        "df_sample = all_data.sample(frac=sample_fraction, random_state=42)\n",
        "df_sample = df_sample.compute()"
      ]
    },
    {
      "cell_type": "markdown",
      "metadata": {
        "id": "U8ORBcHmPyH6"
      },
      "source": [
        "⚡point：各カラムについてエンコーディング方法を定義します。\n",
        "- store_number：ターゲットエンコーディング\n",
        "- county：ターゲットエンコーディング\n",
        "- category：ターゲットエンコーディング\n",
        "- vendor_number：ターゲットエンコーディング\n",
        "- item_number：ターゲットエンコーディング\n",
        "- year：そのまま使用\n",
        "- month： One-Hotエンコーディング\n",
        "- day_of_week： One-Hotエンコーディング\n",
        "- is_holiday：そのまま使用"
      ]
    },
    {
      "cell_type": "markdown",
      "metadata": {
        "id": "yDLNFdT-WyLZ"
      },
      "source": [
        "###### エンコーディング"
      ]
    },
    {
      "cell_type": "code",
      "execution_count": null,
      "metadata": {
        "id": "NVRElxsSShWl"
      },
      "outputs": [],
      "source": [
        "#ターゲットエンコーディング\n",
        "target_encoding_cols = ['store_number', 'county', 'category', 'vendor_number',\"item_number\"]\n",
        "df_sample_encorded = df_sample.copy()\n",
        "global_median = df_sample_encorded[target].median()\n",
        "\n",
        "for col in target_encoding_cols:\n",
        "    target_median = df_sample_encorded.groupby(col)[target].median()\n",
        "    df_sample_encorded[col + \"_te\"] = df_sample_encorded[col].map(target_median)\n",
        "    df_sample_encorded[col + \"_te\"] = df_sample_encorded[col].map(target_median).fillna(global_median)\n",
        "    df_sample_encorded = df_sample_encorded.drop(columns=[col])\n",
        "\n",
        "quantitative_features_encorded = [col for col in quantitative_features if col not in target_encoding_cols]\n",
        "quantitative_features_encorded += [col + \"_te\" for col in target_encoding_cols]"
      ]
    },
    {
      "cell_type": "code",
      "execution_count": null,
      "metadata": {
        "id": "sXylybiYSErj"
      },
      "outputs": [],
      "source": [
        "#one-hotエンコーディング\n",
        "one_hot_cols = ['month', 'day_of_week']\n",
        "df_sample_encorded = pd.get_dummies(df_sample_encorded, columns=one_hot_cols, drop_first=False)\n",
        "#one_hot_colsをdf_sample_encordedから削除\n",
        "quantitative_features_encorded = [col for col in quantitative_features_encorded if col not in one_hot_cols]\n",
        "#one_hot_colsをdf_sample_encordedに追加\n",
        "quantitative_features_encorded += [col for col in df_sample_encorded.columns if col.startswith('month_') or col.startswith('day_of_week_')]"
      ]
    },
    {
      "cell_type": "markdown",
      "source": [
        "###### 学習用データとテストデータの生成"
      ],
      "metadata": {
        "id": "uTpxYIga-cU-"
      }
    },
    {
      "cell_type": "code",
      "execution_count": null,
      "metadata": {
        "id": "qNvPhMUa5dJt"
      },
      "outputs": [],
      "source": [
        "# 時系列リークを考慮したスプリット\n",
        "df_sample = df_sample.sort_values(\"date\")\n",
        "X = df_sample[quantitative_features]\n",
        "y = df_sample[target]\n",
        "\n",
        "n_total = len(df_sample)\n",
        "n_train = int(n_total * 0.8)\n",
        "train_idx = list(range(n_train))\n",
        "test_idx = list(range(n_train, n_total))\n",
        "\n",
        "X_train = X.iloc[train_idx]\n",
        "X_test = X.iloc[test_idx]\n",
        "y_train = y.iloc[train_idx]\n",
        "y_test = y.iloc[test_idx]\n",
        "\n",
        "# ターゲットエンコーディング済みも実施\n",
        "df_sample_encorded = df_sample_encorded.sort_values(\"date\")\n",
        "X = df_sample_encorded[quantitative_features_encorded]\n",
        "y = df_sample_encorded[target]\n",
        "\n",
        "n_total = len(df_sample_encorded)\n",
        "n_train = int(n_total * 0.8)\n",
        "train_idx_encorded = list(range(n_train))\n",
        "test_idx_encorded = list(range(n_train, n_total))\n",
        "\n",
        "X_train_encorded = X.iloc[train_idx_encorded]\n",
        "X_test_encorded = X.iloc[test_idx_encorded]\n",
        "y_train_encorded = y.iloc[train_idx_encorded]\n",
        "y_test_encorded = y.iloc[test_idx_encorded]"
      ]
    },
    {
      "cell_type": "code",
      "source": [
        "#加工用のx_trainとx_testを用意\n",
        "X_train_log_scaled = X_train.copy()\n",
        "X_test_log_scaled = X_test.copy()\n",
        "y_train_log_scaled = y_train.copy()\n",
        "#ターゲットエンコーディング済みも実施\n",
        "X_train_encorded_log_scaled = X_train_encorded.copy()\n",
        "X_test_encorded_log_scaled = X_test_encorded.copy()\n",
        "y_train_encorded_log_scaled = y_train_encorded.copy()"
      ],
      "metadata": {
        "id": "P41mkyb2VdGC"
      },
      "execution_count": null,
      "outputs": []
    },
    {
      "cell_type": "markdown",
      "metadata": {
        "id": "xq-yXxT0jTNT"
      },
      "source": [
        "###### 対数変換とスケーリング"
      ]
    },
    {
      "cell_type": "code",
      "execution_count": null,
      "metadata": {
        "id": "yY6OGiXtt563"
      },
      "outputs": [],
      "source": [
        "#対数変換（ターゲットエンコーディング済み）\n",
        "log_scaled_cols= ['pack', 'bottle_volume_ml', 'state_bottle_cost', 'state_bottle_retail', 'bottles_sold', 'volume_sold_liters','sales_per_L']\n",
        "skewed_te = X_train_encorded[log_scaled_cols].apply(lambda x: skew(x.dropna()))\n",
        "skewed_feats_te = skewed_te[skewed_te > 0.75].index\n",
        "X_train_encorded_log_scaled[skewed_feats_te] = np.log1p(X_train_encorded_log_scaled[skewed_feats_te])\n",
        "X_test_encorded_log_scaled[skewed_feats_te] = np.log1p(X_test_encorded_log_scaled[skewed_feats_te])\n",
        "y_train_encorded_log_scaled = np.log1p(y_train_encorded_log_scaled)\n",
        "\n",
        "#スケーリング\n",
        "scaler = StandardScaler()\n",
        "X_train_encorded_log_scaled = scaler.fit_transform(X_train_encorded_log_scaled[quantitative_features_encorded])\n",
        "X_test_encorded_log_scaled = scaler.transform(X_test_encorded_log_scaled[quantitative_features_encorded])"
      ]
    },
    {
      "cell_type": "code",
      "execution_count": null,
      "metadata": {
        "colab": {
          "base_uri": "https://localhost:8080/",
          "height": 81
        },
        "id": "DQcVMVbkuEEZ",
        "outputId": "a8c26143-736f-4aa1-d8c5-9747aa814195"
      },
      "outputs": [
        {
          "output_type": "execute_result",
          "data": {
            "text/plain": [
              "LinearRegression()"
            ],
            "text/html": [
              "<style>#sk-container-id-1 {\n",
              "  /* Definition of color scheme common for light and dark mode */\n",
              "  --sklearn-color-text: #000;\n",
              "  --sklearn-color-text-muted: #666;\n",
              "  --sklearn-color-line: gray;\n",
              "  /* Definition of color scheme for unfitted estimators */\n",
              "  --sklearn-color-unfitted-level-0: #fff5e6;\n",
              "  --sklearn-color-unfitted-level-1: #f6e4d2;\n",
              "  --sklearn-color-unfitted-level-2: #ffe0b3;\n",
              "  --sklearn-color-unfitted-level-3: chocolate;\n",
              "  /* Definition of color scheme for fitted estimators */\n",
              "  --sklearn-color-fitted-level-0: #f0f8ff;\n",
              "  --sklearn-color-fitted-level-1: #d4ebff;\n",
              "  --sklearn-color-fitted-level-2: #b3dbfd;\n",
              "  --sklearn-color-fitted-level-3: cornflowerblue;\n",
              "\n",
              "  /* Specific color for light theme */\n",
              "  --sklearn-color-text-on-default-background: var(--sg-text-color, var(--theme-code-foreground, var(--jp-content-font-color1, black)));\n",
              "  --sklearn-color-background: var(--sg-background-color, var(--theme-background, var(--jp-layout-color0, white)));\n",
              "  --sklearn-color-border-box: var(--sg-text-color, var(--theme-code-foreground, var(--jp-content-font-color1, black)));\n",
              "  --sklearn-color-icon: #696969;\n",
              "\n",
              "  @media (prefers-color-scheme: dark) {\n",
              "    /* Redefinition of color scheme for dark theme */\n",
              "    --sklearn-color-text-on-default-background: var(--sg-text-color, var(--theme-code-foreground, var(--jp-content-font-color1, white)));\n",
              "    --sklearn-color-background: var(--sg-background-color, var(--theme-background, var(--jp-layout-color0, #111)));\n",
              "    --sklearn-color-border-box: var(--sg-text-color, var(--theme-code-foreground, var(--jp-content-font-color1, white)));\n",
              "    --sklearn-color-icon: #878787;\n",
              "  }\n",
              "}\n",
              "\n",
              "#sk-container-id-1 {\n",
              "  color: var(--sklearn-color-text);\n",
              "}\n",
              "\n",
              "#sk-container-id-1 pre {\n",
              "  padding: 0;\n",
              "}\n",
              "\n",
              "#sk-container-id-1 input.sk-hidden--visually {\n",
              "  border: 0;\n",
              "  clip: rect(1px 1px 1px 1px);\n",
              "  clip: rect(1px, 1px, 1px, 1px);\n",
              "  height: 1px;\n",
              "  margin: -1px;\n",
              "  overflow: hidden;\n",
              "  padding: 0;\n",
              "  position: absolute;\n",
              "  width: 1px;\n",
              "}\n",
              "\n",
              "#sk-container-id-1 div.sk-dashed-wrapped {\n",
              "  border: 1px dashed var(--sklearn-color-line);\n",
              "  margin: 0 0.4em 0.5em 0.4em;\n",
              "  box-sizing: border-box;\n",
              "  padding-bottom: 0.4em;\n",
              "  background-color: var(--sklearn-color-background);\n",
              "}\n",
              "\n",
              "#sk-container-id-1 div.sk-container {\n",
              "  /* jupyter's `normalize.less` sets `[hidden] { display: none; }`\n",
              "     but bootstrap.min.css set `[hidden] { display: none !important; }`\n",
              "     so we also need the `!important` here to be able to override the\n",
              "     default hidden behavior on the sphinx rendered scikit-learn.org.\n",
              "     See: https://github.com/scikit-learn/scikit-learn/issues/21755 */\n",
              "  display: inline-block !important;\n",
              "  position: relative;\n",
              "}\n",
              "\n",
              "#sk-container-id-1 div.sk-text-repr-fallback {\n",
              "  display: none;\n",
              "}\n",
              "\n",
              "div.sk-parallel-item,\n",
              "div.sk-serial,\n",
              "div.sk-item {\n",
              "  /* draw centered vertical line to link estimators */\n",
              "  background-image: linear-gradient(var(--sklearn-color-text-on-default-background), var(--sklearn-color-text-on-default-background));\n",
              "  background-size: 2px 100%;\n",
              "  background-repeat: no-repeat;\n",
              "  background-position: center center;\n",
              "}\n",
              "\n",
              "/* Parallel-specific style estimator block */\n",
              "\n",
              "#sk-container-id-1 div.sk-parallel-item::after {\n",
              "  content: \"\";\n",
              "  width: 100%;\n",
              "  border-bottom: 2px solid var(--sklearn-color-text-on-default-background);\n",
              "  flex-grow: 1;\n",
              "}\n",
              "\n",
              "#sk-container-id-1 div.sk-parallel {\n",
              "  display: flex;\n",
              "  align-items: stretch;\n",
              "  justify-content: center;\n",
              "  background-color: var(--sklearn-color-background);\n",
              "  position: relative;\n",
              "}\n",
              "\n",
              "#sk-container-id-1 div.sk-parallel-item {\n",
              "  display: flex;\n",
              "  flex-direction: column;\n",
              "}\n",
              "\n",
              "#sk-container-id-1 div.sk-parallel-item:first-child::after {\n",
              "  align-self: flex-end;\n",
              "  width: 50%;\n",
              "}\n",
              "\n",
              "#sk-container-id-1 div.sk-parallel-item:last-child::after {\n",
              "  align-self: flex-start;\n",
              "  width: 50%;\n",
              "}\n",
              "\n",
              "#sk-container-id-1 div.sk-parallel-item:only-child::after {\n",
              "  width: 0;\n",
              "}\n",
              "\n",
              "/* Serial-specific style estimator block */\n",
              "\n",
              "#sk-container-id-1 div.sk-serial {\n",
              "  display: flex;\n",
              "  flex-direction: column;\n",
              "  align-items: center;\n",
              "  background-color: var(--sklearn-color-background);\n",
              "  padding-right: 1em;\n",
              "  padding-left: 1em;\n",
              "}\n",
              "\n",
              "\n",
              "/* Toggleable style: style used for estimator/Pipeline/ColumnTransformer box that is\n",
              "clickable and can be expanded/collapsed.\n",
              "- Pipeline and ColumnTransformer use this feature and define the default style\n",
              "- Estimators will overwrite some part of the style using the `sk-estimator` class\n",
              "*/\n",
              "\n",
              "/* Pipeline and ColumnTransformer style (default) */\n",
              "\n",
              "#sk-container-id-1 div.sk-toggleable {\n",
              "  /* Default theme specific background. It is overwritten whether we have a\n",
              "  specific estimator or a Pipeline/ColumnTransformer */\n",
              "  background-color: var(--sklearn-color-background);\n",
              "}\n",
              "\n",
              "/* Toggleable label */\n",
              "#sk-container-id-1 label.sk-toggleable__label {\n",
              "  cursor: pointer;\n",
              "  display: flex;\n",
              "  width: 100%;\n",
              "  margin-bottom: 0;\n",
              "  padding: 0.5em;\n",
              "  box-sizing: border-box;\n",
              "  text-align: center;\n",
              "  align-items: start;\n",
              "  justify-content: space-between;\n",
              "  gap: 0.5em;\n",
              "}\n",
              "\n",
              "#sk-container-id-1 label.sk-toggleable__label .caption {\n",
              "  font-size: 0.6rem;\n",
              "  font-weight: lighter;\n",
              "  color: var(--sklearn-color-text-muted);\n",
              "}\n",
              "\n",
              "#sk-container-id-1 label.sk-toggleable__label-arrow:before {\n",
              "  /* Arrow on the left of the label */\n",
              "  content: \"▸\";\n",
              "  float: left;\n",
              "  margin-right: 0.25em;\n",
              "  color: var(--sklearn-color-icon);\n",
              "}\n",
              "\n",
              "#sk-container-id-1 label.sk-toggleable__label-arrow:hover:before {\n",
              "  color: var(--sklearn-color-text);\n",
              "}\n",
              "\n",
              "/* Toggleable content - dropdown */\n",
              "\n",
              "#sk-container-id-1 div.sk-toggleable__content {\n",
              "  max-height: 0;\n",
              "  max-width: 0;\n",
              "  overflow: hidden;\n",
              "  text-align: left;\n",
              "  /* unfitted */\n",
              "  background-color: var(--sklearn-color-unfitted-level-0);\n",
              "}\n",
              "\n",
              "#sk-container-id-1 div.sk-toggleable__content.fitted {\n",
              "  /* fitted */\n",
              "  background-color: var(--sklearn-color-fitted-level-0);\n",
              "}\n",
              "\n",
              "#sk-container-id-1 div.sk-toggleable__content pre {\n",
              "  margin: 0.2em;\n",
              "  border-radius: 0.25em;\n",
              "  color: var(--sklearn-color-text);\n",
              "  /* unfitted */\n",
              "  background-color: var(--sklearn-color-unfitted-level-0);\n",
              "}\n",
              "\n",
              "#sk-container-id-1 div.sk-toggleable__content.fitted pre {\n",
              "  /* unfitted */\n",
              "  background-color: var(--sklearn-color-fitted-level-0);\n",
              "}\n",
              "\n",
              "#sk-container-id-1 input.sk-toggleable__control:checked~div.sk-toggleable__content {\n",
              "  /* Expand drop-down */\n",
              "  max-height: 200px;\n",
              "  max-width: 100%;\n",
              "  overflow: auto;\n",
              "}\n",
              "\n",
              "#sk-container-id-1 input.sk-toggleable__control:checked~label.sk-toggleable__label-arrow:before {\n",
              "  content: \"▾\";\n",
              "}\n",
              "\n",
              "/* Pipeline/ColumnTransformer-specific style */\n",
              "\n",
              "#sk-container-id-1 div.sk-label input.sk-toggleable__control:checked~label.sk-toggleable__label {\n",
              "  color: var(--sklearn-color-text);\n",
              "  background-color: var(--sklearn-color-unfitted-level-2);\n",
              "}\n",
              "\n",
              "#sk-container-id-1 div.sk-label.fitted input.sk-toggleable__control:checked~label.sk-toggleable__label {\n",
              "  background-color: var(--sklearn-color-fitted-level-2);\n",
              "}\n",
              "\n",
              "/* Estimator-specific style */\n",
              "\n",
              "/* Colorize estimator box */\n",
              "#sk-container-id-1 div.sk-estimator input.sk-toggleable__control:checked~label.sk-toggleable__label {\n",
              "  /* unfitted */\n",
              "  background-color: var(--sklearn-color-unfitted-level-2);\n",
              "}\n",
              "\n",
              "#sk-container-id-1 div.sk-estimator.fitted input.sk-toggleable__control:checked~label.sk-toggleable__label {\n",
              "  /* fitted */\n",
              "  background-color: var(--sklearn-color-fitted-level-2);\n",
              "}\n",
              "\n",
              "#sk-container-id-1 div.sk-label label.sk-toggleable__label,\n",
              "#sk-container-id-1 div.sk-label label {\n",
              "  /* The background is the default theme color */\n",
              "  color: var(--sklearn-color-text-on-default-background);\n",
              "}\n",
              "\n",
              "/* On hover, darken the color of the background */\n",
              "#sk-container-id-1 div.sk-label:hover label.sk-toggleable__label {\n",
              "  color: var(--sklearn-color-text);\n",
              "  background-color: var(--sklearn-color-unfitted-level-2);\n",
              "}\n",
              "\n",
              "/* Label box, darken color on hover, fitted */\n",
              "#sk-container-id-1 div.sk-label.fitted:hover label.sk-toggleable__label.fitted {\n",
              "  color: var(--sklearn-color-text);\n",
              "  background-color: var(--sklearn-color-fitted-level-2);\n",
              "}\n",
              "\n",
              "/* Estimator label */\n",
              "\n",
              "#sk-container-id-1 div.sk-label label {\n",
              "  font-family: monospace;\n",
              "  font-weight: bold;\n",
              "  display: inline-block;\n",
              "  line-height: 1.2em;\n",
              "}\n",
              "\n",
              "#sk-container-id-1 div.sk-label-container {\n",
              "  text-align: center;\n",
              "}\n",
              "\n",
              "/* Estimator-specific */\n",
              "#sk-container-id-1 div.sk-estimator {\n",
              "  font-family: monospace;\n",
              "  border: 1px dotted var(--sklearn-color-border-box);\n",
              "  border-radius: 0.25em;\n",
              "  box-sizing: border-box;\n",
              "  margin-bottom: 0.5em;\n",
              "  /* unfitted */\n",
              "  background-color: var(--sklearn-color-unfitted-level-0);\n",
              "}\n",
              "\n",
              "#sk-container-id-1 div.sk-estimator.fitted {\n",
              "  /* fitted */\n",
              "  background-color: var(--sklearn-color-fitted-level-0);\n",
              "}\n",
              "\n",
              "/* on hover */\n",
              "#sk-container-id-1 div.sk-estimator:hover {\n",
              "  /* unfitted */\n",
              "  background-color: var(--sklearn-color-unfitted-level-2);\n",
              "}\n",
              "\n",
              "#sk-container-id-1 div.sk-estimator.fitted:hover {\n",
              "  /* fitted */\n",
              "  background-color: var(--sklearn-color-fitted-level-2);\n",
              "}\n",
              "\n",
              "/* Specification for estimator info (e.g. \"i\" and \"?\") */\n",
              "\n",
              "/* Common style for \"i\" and \"?\" */\n",
              "\n",
              ".sk-estimator-doc-link,\n",
              "a:link.sk-estimator-doc-link,\n",
              "a:visited.sk-estimator-doc-link {\n",
              "  float: right;\n",
              "  font-size: smaller;\n",
              "  line-height: 1em;\n",
              "  font-family: monospace;\n",
              "  background-color: var(--sklearn-color-background);\n",
              "  border-radius: 1em;\n",
              "  height: 1em;\n",
              "  width: 1em;\n",
              "  text-decoration: none !important;\n",
              "  margin-left: 0.5em;\n",
              "  text-align: center;\n",
              "  /* unfitted */\n",
              "  border: var(--sklearn-color-unfitted-level-1) 1pt solid;\n",
              "  color: var(--sklearn-color-unfitted-level-1);\n",
              "}\n",
              "\n",
              ".sk-estimator-doc-link.fitted,\n",
              "a:link.sk-estimator-doc-link.fitted,\n",
              "a:visited.sk-estimator-doc-link.fitted {\n",
              "  /* fitted */\n",
              "  border: var(--sklearn-color-fitted-level-1) 1pt solid;\n",
              "  color: var(--sklearn-color-fitted-level-1);\n",
              "}\n",
              "\n",
              "/* On hover */\n",
              "div.sk-estimator:hover .sk-estimator-doc-link:hover,\n",
              ".sk-estimator-doc-link:hover,\n",
              "div.sk-label-container:hover .sk-estimator-doc-link:hover,\n",
              ".sk-estimator-doc-link:hover {\n",
              "  /* unfitted */\n",
              "  background-color: var(--sklearn-color-unfitted-level-3);\n",
              "  color: var(--sklearn-color-background);\n",
              "  text-decoration: none;\n",
              "}\n",
              "\n",
              "div.sk-estimator.fitted:hover .sk-estimator-doc-link.fitted:hover,\n",
              ".sk-estimator-doc-link.fitted:hover,\n",
              "div.sk-label-container:hover .sk-estimator-doc-link.fitted:hover,\n",
              ".sk-estimator-doc-link.fitted:hover {\n",
              "  /* fitted */\n",
              "  background-color: var(--sklearn-color-fitted-level-3);\n",
              "  color: var(--sklearn-color-background);\n",
              "  text-decoration: none;\n",
              "}\n",
              "\n",
              "/* Span, style for the box shown on hovering the info icon */\n",
              ".sk-estimator-doc-link span {\n",
              "  display: none;\n",
              "  z-index: 9999;\n",
              "  position: relative;\n",
              "  font-weight: normal;\n",
              "  right: .2ex;\n",
              "  padding: .5ex;\n",
              "  margin: .5ex;\n",
              "  width: min-content;\n",
              "  min-width: 20ex;\n",
              "  max-width: 50ex;\n",
              "  color: var(--sklearn-color-text);\n",
              "  box-shadow: 2pt 2pt 4pt #999;\n",
              "  /* unfitted */\n",
              "  background: var(--sklearn-color-unfitted-level-0);\n",
              "  border: .5pt solid var(--sklearn-color-unfitted-level-3);\n",
              "}\n",
              "\n",
              ".sk-estimator-doc-link.fitted span {\n",
              "  /* fitted */\n",
              "  background: var(--sklearn-color-fitted-level-0);\n",
              "  border: var(--sklearn-color-fitted-level-3);\n",
              "}\n",
              "\n",
              ".sk-estimator-doc-link:hover span {\n",
              "  display: block;\n",
              "}\n",
              "\n",
              "/* \"?\"-specific style due to the `<a>` HTML tag */\n",
              "\n",
              "#sk-container-id-1 a.estimator_doc_link {\n",
              "  float: right;\n",
              "  font-size: 1rem;\n",
              "  line-height: 1em;\n",
              "  font-family: monospace;\n",
              "  background-color: var(--sklearn-color-background);\n",
              "  border-radius: 1rem;\n",
              "  height: 1rem;\n",
              "  width: 1rem;\n",
              "  text-decoration: none;\n",
              "  /* unfitted */\n",
              "  color: var(--sklearn-color-unfitted-level-1);\n",
              "  border: var(--sklearn-color-unfitted-level-1) 1pt solid;\n",
              "}\n",
              "\n",
              "#sk-container-id-1 a.estimator_doc_link.fitted {\n",
              "  /* fitted */\n",
              "  border: var(--sklearn-color-fitted-level-1) 1pt solid;\n",
              "  color: var(--sklearn-color-fitted-level-1);\n",
              "}\n",
              "\n",
              "/* On hover */\n",
              "#sk-container-id-1 a.estimator_doc_link:hover {\n",
              "  /* unfitted */\n",
              "  background-color: var(--sklearn-color-unfitted-level-3);\n",
              "  color: var(--sklearn-color-background);\n",
              "  text-decoration: none;\n",
              "}\n",
              "\n",
              "#sk-container-id-1 a.estimator_doc_link.fitted:hover {\n",
              "  /* fitted */\n",
              "  background-color: var(--sklearn-color-fitted-level-3);\n",
              "}\n",
              "</style><div id=\"sk-container-id-1\" class=\"sk-top-container\"><div class=\"sk-text-repr-fallback\"><pre>LinearRegression()</pre><b>In a Jupyter environment, please rerun this cell to show the HTML representation or trust the notebook. <br />On GitHub, the HTML representation is unable to render, please try loading this page with nbviewer.org.</b></div><div class=\"sk-container\" hidden><div class=\"sk-item\"><div class=\"sk-estimator fitted sk-toggleable\"><input class=\"sk-toggleable__control sk-hidden--visually\" id=\"sk-estimator-id-1\" type=\"checkbox\" checked><label for=\"sk-estimator-id-1\" class=\"sk-toggleable__label fitted sk-toggleable__label-arrow\"><div><div>LinearRegression</div></div><div><a class=\"sk-estimator-doc-link fitted\" rel=\"noreferrer\" target=\"_blank\" href=\"https://scikit-learn.org/1.6/modules/generated/sklearn.linear_model.LinearRegression.html\">?<span>Documentation for LinearRegression</span></a><span class=\"sk-estimator-doc-link fitted\">i<span>Fitted</span></span></div></label><div class=\"sk-toggleable__content fitted\"><pre>LinearRegression()</pre></div> </div></div></div></div>"
            ]
          },
          "metadata": {},
          "execution_count": 10
        }
      ],
      "source": [
        "# 線形回帰モデルの学習\n",
        "model = LinearRegression()\n",
        "model.fit(X_train_encorded_log_scaled, y_train_encorded_log_scaled)"
      ]
    },
    {
      "cell_type": "code",
      "execution_count": null,
      "metadata": {
        "colab": {
          "base_uri": "https://localhost:8080/"
        },
        "id": "-MRtP6TFX_b4",
        "outputId": "1c1614c2-4bb2-4b46-f42a-769291eba2f0"
      },
      "outputs": [
        {
          "output_type": "stream",
          "name": "stdout",
          "text": [
            "MAE: 25.61\n",
            "MSE: 87522.23\n",
            "RMSE: 295.84\n",
            "R-squared: 0.6913\n"
          ]
        }
      ],
      "source": [
        "#モデル評価\n",
        "y_pred = model.predict(X_test_encorded_log_scaled)\n",
        "y_pred_original = np.expm1(y_pred)\n",
        "\n",
        "mae = mean_absolute_error(y_test_encorded, y_pred_original)\n",
        "mse = mean_squared_error(y_test_encorded, y_pred_original)\n",
        "rmse = np.sqrt(mse)\n",
        "r2 = r2_score(y_test_encorded, y_pred_original)\n",
        "\n",
        "print(f\"MAE: {mae:.2f}\")\n",
        "print(f\"MSE: {mse:.2f}\")\n",
        "print(f\"RMSE: {rmse:.2f}\")\n",
        "print(f\"R-squared: {r2:.4f}\")"
      ]
    },
    {
      "cell_type": "code",
      "source": [
        "#特徴量の影響度評価\n",
        "coef_df = pd.DataFrame({\n",
        "    \"Feature\": X_train_encorded.columns,\n",
        "    \"Coefficient\": model.coef_\n",
        "})\n",
        "\n",
        "coef_df[\"Abs_Coefficient\"] = coef_df[\"Coefficient\"].abs()\n",
        "coef_df = coef_df.sort_values(by=\"Abs_Coefficient\", ascending=False)\n",
        "\n",
        "plt.figure(figsize=(10, 6))\n",
        "plt.barh(coef_df[\"Feature\"].head(20), coef_df[\"Coefficient\"].head(20))\n",
        "plt.xlabel(\"Coefficient\")\n",
        "plt.title(\"Top 20 Most Influential Features\")\n",
        "plt.gca().invert_yaxis()\n",
        "plt.tight_layout()\n",
        "plt.show()"
      ],
      "metadata": {
        "colab": {
          "base_uri": "https://localhost:8080/",
          "height": 607
        },
        "id": "PsZWOYAC-7um",
        "outputId": "37ee3158-77bd-4cfa-b515-60b1edbfb7c7"
      },
      "execution_count": null,
      "outputs": [
        {
          "output_type": "display_data",
          "data": {
            "text/plain": [
              "<Figure size 1000x600 with 1 Axes>"
            ],
            "image/png": "[encoded data removed]"
          },
          "metadata": {}
        }
      ]
    }
  ],
  "metadata": {
    "colab": {
      "collapsed_sections": [
        "UscnDzHH4v3W",
        "r1Zj8OJDz7Nc"
      ],
      "provenance": [],
      "authorship_tag": "ABX9TyPXNhEnUy+XC1hWW2quS0PO",
      "include_colab_link": true
    },
    "kernelspec": {
      "display_name": "Python 3",
      "name": "python3"
    },
    "language_info": {
      "name": "python"
    }
  },
  "nbformat": 4,
  "nbformat_minor": 0
}